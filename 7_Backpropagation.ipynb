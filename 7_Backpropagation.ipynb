{
 "cells": [
  {
   "cell_type": "code",
   "execution_count": 16,
   "metadata": {},
   "outputs": [],
   "source": [
    "import numpy as np\n",
    "from common.methods import softmax, cross_entropy_error, numerical_gradient\n",
    "from collections import OrderedDict\n",
    "import matplotlib.pyplot as plt\n",
    "\n",
    "from dataset.mnist import load_mnist"
   ]
  },
  {
   "cell_type": "markdown",
   "metadata": {},
   "source": [
    "# Basic Concept"
   ]
  },
  {
   "cell_type": "markdown",
   "metadata": {},
   "source": [
    "## Multiply Layer"
   ]
  },
  {
   "cell_type": "code",
   "execution_count": 2,
   "metadata": {},
   "outputs": [],
   "source": [
    "class MultiplyLayer:\n",
    "    def __init__(self):\n",
    "        self.x = 0.0\n",
    "        self.y = 0.0\n",
    "        \n",
    "    def forward(self, x, y):\n",
    "        self.x = x\n",
    "        self.y = y\n",
    "        return self.x * self.y\n",
    "    \n",
    "    def backward(self, dout):\n",
    "        # dout is the differentiation value from the upper layer\n",
    "        dx = dout * self.y\n",
    "        dy = dout * self.x\n",
    "        return dx, dy"
   ]
  },
  {
   "cell_type": "markdown",
   "metadata": {},
   "source": [
    "### forward propagation"
   ]
  },
  {
   "cell_type": "code",
   "execution_count": 3,
   "metadata": {},
   "outputs": [
    {
     "name": "stdout",
     "output_type": "stream",
     "text": [
      "220.00000000000003\n"
     ]
    }
   ],
   "source": [
    "fruit = 100\n",
    "fruit_num = 2\n",
    "tax = 1.1\n",
    "\n",
    "# layer\n",
    "mul_fruit_layer = MultiplyLayer()\n",
    "mul_tax_layer = MultiplyLayer()\n",
    "\n",
    "# forward\n",
    "fruit_price = mul_fruit_layer.forward(fruit, fruit_num)\n",
    "price = mul_tax_layer.forward(fruit_price, tax)\n",
    "\n",
    "print(price)"
   ]
  },
  {
   "cell_type": "markdown",
   "metadata": {},
   "source": [
    "### backward propagation"
   ]
  },
  {
   "cell_type": "code",
   "execution_count": 4,
   "metadata": {},
   "outputs": [
    {
     "name": "stdout",
     "output_type": "stream",
     "text": [
      "2.2 110.00000000000001 200\n"
     ]
    }
   ],
   "source": [
    "dprice = 1\n",
    "dfruit_price, dtax = mul_tax_layer.backward(dprice)\n",
    "dfruit, dfruit_num = mul_fruit_layer.backward(dfruit_price)\n",
    "print(dfruit, dfruit_num, dtax)"
   ]
  },
  {
   "cell_type": "markdown",
   "metadata": {},
   "source": [
    "## Add Layer"
   ]
  },
  {
   "cell_type": "code",
   "execution_count": 5,
   "metadata": {},
   "outputs": [],
   "source": [
    "class AddLayer:\n",
    "    def __init__(self):\n",
    "        self.x = 0.0\n",
    "        self.y = 0.0\n",
    "    \n",
    "    def forward(self, x, y):\n",
    "        self.x = x\n",
    "        self.y = y\n",
    "        return self.x + self.y\n",
    "    \n",
    "    def backward(self, dout):\n",
    "        dx = dout * 1\n",
    "        dy = dout * 1\n",
    "        return dx, dy"
   ]
  },
  {
   "cell_type": "markdown",
   "metadata": {},
   "source": [
    "## Combine MultiplyLayer and AddLayer"
   ]
  },
  {
   "cell_type": "code",
   "execution_count": 6,
   "metadata": {},
   "outputs": [
    {
     "name": "stdout",
     "output_type": "stream",
     "text": [
      "Total Price: 715.0000000000001\n",
      "dapple_price: 2.2\n",
      "dapple_num: 110.00000000000001\n",
      "dorange_price: 3.3000000000000003\n",
      "dorange_num: 165.0\n",
      "dtax: 650\n"
     ]
    }
   ],
   "source": [
    "apple_price = 100\n",
    "apple_num = 2\n",
    "orange_price = 150\n",
    "orange_num = 3\n",
    "tax = 1.1\n",
    "\n",
    "# layer\n",
    "mul_apple_layer = MultiplyLayer()\n",
    "mul_orange_layer = MultiplyLayer()\n",
    "add_apple_orange_layer = AddLayer()\n",
    "mul_tax_layer = MultiplyLayer()\n",
    "\n",
    "# forward\n",
    "apple = mul_apple_layer.forward(apple_price, apple_num)\n",
    "orange = mul_orange_layer.forward(orange_price, orange_num)\n",
    "fruit_sum = add_apple_orange_layer.forward(apple, orange)\n",
    "price = mul_tax_layer.forward(fruit_sum, tax)\n",
    "print(\"Total Price:\", price)\n",
    "\n",
    "# backward\n",
    "dprice = 1\n",
    "dfruit_sum, dtax = mul_tax_layer.backward(dprice)\n",
    "dapple, dorange = add_apple_orange_layer.backward(dfruit_sum)\n",
    "dapple_price, dapple_num = mul_apple_layer.backward(dapple)\n",
    "dorange_price, dorange_num = mul_orange_layer.backward(dorange)\n",
    "print(\"dapple_price:\", dapple_price)\n",
    "print(\"dapple_num:\", dapple_num)\n",
    "print(\"dorange_price:\", dorange_price)\n",
    "print(\"dorange_num:\", dorange_num)\n",
    "print(\"dtax:\", dtax)"
   ]
  },
  {
   "cell_type": "markdown",
   "metadata": {},
   "source": [
    "# Relu and Sigmoid"
   ]
  },
  {
   "cell_type": "code",
   "execution_count": 7,
   "metadata": {},
   "outputs": [],
   "source": [
    "class Relu:\n",
    "    def __init__(self):\n",
    "        self.mask = None\n",
    "        \n",
    "    def forward(self, x):\n",
    "        self.mask = (x <= 0)\n",
    "        out = x.copy()\n",
    "        out[self.mask] = 0\n",
    "        return out\n",
    "    \n",
    "    def backward(self, dout):\n",
    "        dout[self.mask] = 0\n",
    "        dx = dout\n",
    "        return dx\n",
    "    \n",
    "class Sigmoid:\n",
    "    def __init__(self):\n",
    "        self.out = None\n",
    "        \n",
    "    def forward(self, x):\n",
    "        self.out = 1 / (1 + np.exp(-x))\n",
    "        return self.out\n",
    "    \n",
    "    def backward(self, dout):\n",
    "        dx = dout * self.out * (1.0 - self.out)\n",
    "        return dx"
   ]
  },
  {
   "cell_type": "markdown",
   "metadata": {},
   "source": [
    "# Affline and Softmax"
   ]
  },
  {
   "cell_type": "code",
   "execution_count": 8,
   "metadata": {},
   "outputs": [],
   "source": [
    "class Affine:\n",
    "    def __init__(self, W, b):\n",
    "        self.W = W\n",
    "        self.b = b\n",
    "        self.x = None\n",
    "        self.dW = None\n",
    "        self.db = None\n",
    "    \n",
    "    def forward(self, x):\n",
    "        self.x = x\n",
    "        out = np.dot(x, self.W) + self.b\n",
    "        return out\n",
    "    \n",
    "    def backward(self, dout):\n",
    "        dx = np.dot(dout, self.W.T)\n",
    "        self.dW = np.dot(self.x.T, dout)\n",
    "        self.db = np.sum(dout, axis = 0)\n",
    "        \n",
    "        return dx"
   ]
  },
  {
   "cell_type": "code",
   "execution_count": 9,
   "metadata": {},
   "outputs": [],
   "source": [
    "class SoftmaxWithLoss:\n",
    "    def __init__(self):\n",
    "        self.loss = None\n",
    "        self.y = None\n",
    "        self.t = None\n",
    "        \n",
    "    def forward(self, y, t):\n",
    "        self.y = softmax(y)\n",
    "        self.t = t\n",
    "        self.loss = cross_entropy_error(self.y, t)\n",
    "        \n",
    "        return self.loss\n",
    "    \n",
    "    def backward(self, dout=1):\n",
    "        batch_size = self.t.shape[0]\n",
    "        dx = (self.y - self.t) / batch_size\n",
    "        return dx"
   ]
  },
  {
   "cell_type": "markdown",
   "metadata": {},
   "source": [
    "# Build a Two Layer Net on Backpropagation"
   ]
  },
  {
   "cell_type": "code",
   "execution_count": 10,
   "metadata": {},
   "outputs": [],
   "source": [
    "class AdvTwoLayerNet:\n",
    "    def __init__(self, input_size, hidden_size, output_size, weight_init_std=1e-2):\n",
    "        # wights and biases\n",
    "        self.params = {}\n",
    "        self.params['W1'] = weight_init_std * np.random.randn(input_size, hidden_size)\n",
    "        self.params['b1'] = np.zeros(hidden_size)\n",
    "        self.params['W2'] = weight_init_std * np.random.randn(hidden_size, output_size)\n",
    "        self.params['b2'] = np.zeros(output_size)\n",
    "        \n",
    "        # layers\n",
    "        self.layers = OrderedDict()\n",
    "        self.layers['Affine1'] = Affine(self.params['W1'], self.params['b1'])\n",
    "        self.layers['Relu1'] = Relu()\n",
    "        self.layers['Affine2'] = Affine(self.params['W2'], self.params['b2'])\n",
    "        self.lastLayer = SoftmaxWithLoss()\n",
    "    \n",
    "    def predict(self, x):\n",
    "        for layer in self.layers.values():\n",
    "            x = layer.forward(x)\n",
    "        return x\n",
    "    \n",
    "    def loss(self, x, t):\n",
    "        # x: input data\n",
    "        # t: labeling\n",
    "        y = self.predict(x)\n",
    "        return self.lastLayer.forward(y, t)\n",
    "    \n",
    "    def accuracy(self, x, t):\n",
    "        y = self.predict(x)\n",
    "        y = np.argmax(y, axis=1)\n",
    "        if t.ndim != 1: t = np.argmax(t, axis=1)\n",
    "        acc = np.sum(y == t) / float(t.shape[0])\n",
    "        return acc\n",
    "    \n",
    "    def numerical_gradient(self, x, t):\n",
    "        loss_w = lambda w: self.loss(x, t)\n",
    "        \n",
    "        grads = {}\n",
    "        grads['W1'] = numerical_gradient(loss_w, self.params['W1'])\n",
    "        grads['b1'] = numerical_gradient(loss_w, self.params['b1'])\n",
    "        grads['W2'] = numerical_gradient(loss_w, self.params['W2'])\n",
    "        grads['b2'] = numerical_gradient(loss_w, self.params['b2'])\n",
    "        return grads\n",
    "    \n",
    "    def gradient(self, x, t):\n",
    "        # forward\n",
    "        self.loss(x, t)\n",
    "        \n",
    "        # backward\n",
    "        dout = 1\n",
    "        dout = self.lastLayer.backward(dout)\n",
    "        \n",
    "        layers = list(self.layers.values())\n",
    "        layers.reverse()\n",
    "        for layer in layers:\n",
    "            dout = layer.backward(dout)\n",
    "        \n",
    "        # set gradient\n",
    "        grads = {}\n",
    "        grads['W1'] = self.layers['Affine1'].dW\n",
    "        grads['b1'] = self.layers['Affine1'].db\n",
    "        grads['W2'] = self.layers['Affine2'].dW\n",
    "        grads['b2'] = self.layers['Affine2'].db\n",
    "        \n",
    "        return grads"
   ]
  },
  {
   "cell_type": "markdown",
   "metadata": {},
   "source": [
    "# Rewrite the function\n",
    "\n",
    "Due to batch data, we have to rewite several functions, including softmax and cross_entropy_error defined in common.methods."
   ]
  },
  {
   "cell_type": "markdown",
   "metadata": {},
   "source": [
    "```python\n",
    "def softmax(x):\n",
    "    # we have adjusted this function to meet batch data\n",
    "    if x.ndim == 2:\n",
    "        x = x.T\n",
    "        x = x - np.max(x, axis=0)\n",
    "        y = np.exp(x) / np.sum(np.exp(x), axis=0)\n",
    "        return y.T\n",
    "    else:\n",
    "        x = x - np.max(x)\n",
    "        return np.exp(x) / np.sum(np.exp(x))\n",
    "\n",
    "def cross_entropy_error(y, t):\n",
    "    # we have adjusted this function to meet batch data\n",
    "    if y.ndim == 1:\n",
    "        t = t.reshape(1, t.size)\n",
    "        y = y.reshape(1, y.size)\n",
    "        \n",
    "    if t.size == y.size:\n",
    "        t = t.argmax(axis=1)\n",
    "             \n",
    "    batch_size = y.shape[0]\n",
    "    return -np.sum(np.log(y[np.arange(batch_size), t] + 1e-7)) / batch_size\n",
    "```"
   ]
  },
  {
   "cell_type": "markdown",
   "metadata": {},
   "source": [
    "# gradient check"
   ]
  },
  {
   "cell_type": "code",
   "execution_count": 11,
   "metadata": {},
   "outputs": [
    {
     "name": "stdout",
     "output_type": "stream",
     "text": [
      "W1 : 3.774872414120354e-10\n",
      "b1 : 2.295691687141405e-09\n",
      "W2 : 5.043069437300973e-09\n",
      "b2 : 1.4044494027476428e-07\n"
     ]
    }
   ],
   "source": [
    "# input data\n",
    "(x_train, t_train), (x_test, t_test) = load_mnist(normalize=True, one_hot_label=True)\n",
    "\n",
    "# create a two layer neural network\n",
    "advTwoLayNet = AdvTwoLayerNet(input_size=784, hidden_size=50, output_size=10)\n",
    "\n",
    "x_batch = x_train[:3]\n",
    "t_batch = t_train[:3]\n",
    "\n",
    "# numerical gradient\n",
    "grad_numerical = advTwoLayNet.numerical_gradient(x_batch, t_batch)\n",
    "\n",
    "# backpropagation\n",
    "grad_propagation = advTwoLayNet.gradient(x_batch, t_batch)\n",
    "\n",
    "# calculate the average error\n",
    "for key in grad_numerical.keys():\n",
    "    diff = np.average(np.abs(grad_propagation[key] - grad_numerical[key]))\n",
    "    print(key + \" : \" + str(diff))"
   ]
  },
  {
   "cell_type": "markdown",
   "metadata": {},
   "source": [
    "# Learning on Backpropagation"
   ]
  },
  {
   "cell_type": "code",
   "execution_count": 14,
   "metadata": {},
   "outputs": [
    {
     "name": "stdout",
     "output_type": "stream",
     "text": [
      "0.08491666666666667 0.083\n",
      "0.9022 0.9041\n",
      "0.9243833333333333 0.9253\n",
      "0.9360166666666667 0.9341\n",
      "0.9453333333333334 0.9427\n",
      "0.94935 0.9464\n",
      "0.9547166666666667 0.9511\n",
      "0.9596833333333333 0.9553\n",
      "0.96245 0.9586\n",
      "0.966 0.9612\n",
      "0.96715 0.9618\n",
      "0.9690333333333333 0.9628\n",
      "0.9721666666666666 0.9661\n",
      "0.9739333333333333 0.9678\n",
      "0.9756833333333333 0.9659\n",
      "0.9768166666666667 0.9677\n",
      "0.9778333333333333 0.9667\n"
     ]
    }
   ],
   "source": [
    "# input data\n",
    "(x_train, t_train), (x_test, t_test) = load_mnist(normalize=True, one_hot_label=True)\n",
    "\n",
    "# create a two layer neural network\n",
    "advTwoLayNet = AdvTwoLayerNet(input_size=784, hidden_size=50, output_size=10)\n",
    "\n",
    "# parameters\n",
    "iters_num = 10000\n",
    "train_size = x_train.shape[0]\n",
    "batch_size = 100\n",
    "learning_rate = 1e-1\n",
    "\n",
    "# history\n",
    "train_loss_list = []\n",
    "train_acc_list = []\n",
    "test_acc_list = []\n",
    "iter_per_epoch = max(x_train.shape[0] / batch_size, 1)\n",
    "\n",
    "# start learning\n",
    "for i in range(iters_num):\n",
    "    #if i % batch_size == 0: print(\"Iter:\", str(i))\n",
    "    \n",
    "    # get batch data\n",
    "    batch_index = np.random.choice(train_size, batch_size)\n",
    "    batch_data = x_train[batch_index]\n",
    "    batch_label = t_train[batch_index]\n",
    "    \n",
    "    # calculate the gradient\n",
    "    grad = advTwoLayNet.gradient(batch_data, batch_label)\n",
    "    \n",
    "    # update the weights and biases\n",
    "    for key in ['W1', 'b1', 'W2', 'b2']:\n",
    "        advTwoLayNet.params[key] -= learning_rate * grad[key]\n",
    "    \n",
    "    # calculate loss and record it\n",
    "    loss = advTwoLayNet.loss(batch_data, batch_label)\n",
    "    train_loss_list.append(loss)\n",
    "    \n",
    "    # epoch\n",
    "    if i % iter_per_epoch == 0:\n",
    "        train_acc_res = advTwoLayNet.accuracy(x_train, t_train)\n",
    "        test_acc_res = advTwoLayNet.accuracy(x_test, t_test)\n",
    "        train_acc_list.append(train_acc_res)\n",
    "        test_acc_list.append(test_acc_res)\n",
    "        print(train_acc_res, test_acc_res)"
   ]
  },
  {
   "cell_type": "markdown",
   "metadata": {},
   "source": [
    "## show training history"
   ]
  },
  {
   "cell_type": "markdown",
   "metadata": {},
   "source": [
    "### Accuracy"
   ]
  },
  {
   "cell_type": "code",
   "execution_count": 28,
   "metadata": {},
   "outputs": [
    {
     "data": {
      "image/png": "[encoded data removed]",
      "text/plain": [
       "<Figure size 432x432 with 1 Axes>"
      ]
     },
     "metadata": {},
     "output_type": "display_data"
    }
   ],
   "source": [
    "fig = plt.figure()\n",
    "plt.plot(train_acc_list, linestyle=\"--\", label=\"training\", color=\"black\", linewidth=2)\n",
    "plt.plot(test_acc_list, linestyle=\"-\", label=\"testing\", color=\"red\")\n",
    "plt.xlabel(\"epoch\")\n",
    "plt.ylabel(\"accuracy\")\n",
    "fig.set_figwidth(6)\n",
    "fig.set_figheight(6)\n",
    "plt.legend()\n",
    "plt.show()"
   ]
  },
  {
   "cell_type": "markdown",
   "metadata": {},
   "source": [
    "### Loss"
   ]
  },
  {
   "cell_type": "code",
   "execution_count": 29,
   "metadata": {},
   "outputs": [
    {
     "data": {
      "image/png": "[encoded data removed]",
      "text/plain": [
       "<Figure size 864x432 with 1 Axes>"
      ]
     },
     "metadata": {},
     "output_type": "display_data"
    }
   ],
   "source": [
    "fig = plt.figure()\n",
    "plt.plot(train_loss_list, linestyle=\"-\", label=\"loss\", color=\"black\", linewidth=2)\n",
    "plt.xlabel(\"batch iterations\")\n",
    "plt.ylabel(\"loss\")\n",
    "fig.set_figwidth(12)\n",
    "fig.set_figheight(6)\n",
    "plt.legend()\n",
    "plt.show()"
   ]
  },
  {
   "cell_type": "code",
   "execution_count": null,
   "metadata": {},
   "outputs": [],
   "source": []
  }
 ],
 "metadata": {
  "kernelspec": {
   "display_name": "Python 3",
   "language": "python",
   "name": "python3"
  },
  "language_info": {
   "codemirror_mode": {
    "name": "ipython",
    "version": 3
   },
   "file_extension": ".py",
   "mimetype": "text/x-python",
   "name": "python",
   "nbconvert_exporter": "python",
   "pygments_lexer": "ipython3",
   "version": "3.6.5"
  }
 },
 "nbformat": 4,
 "nbformat_minor": 2
}
