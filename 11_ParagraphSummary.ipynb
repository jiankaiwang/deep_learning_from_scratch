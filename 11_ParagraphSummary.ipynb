{
 "cells": [
  {
   "cell_type": "markdown",
   "metadata": {
    "collapsed": true
   },
   "source": [
    "# Inference"
   ]
  },
  {
   "cell_type": "code",
   "execution_count": 1,
   "metadata": {
    "collapsed": true
   },
   "outputs": [],
   "source": [
    "import numpy as np\n",
    "import matplotlib.pyplot as plt\n",
    "\n",
    "%matplotlib inline"
   ]
  },
  {
   "cell_type": "markdown",
   "metadata": {},
   "source": [
    "## Matrix Multiply"
   ]
  },
  {
   "cell_type": "code",
   "execution_count": 2,
   "metadata": {
    "collapsed": true
   },
   "outputs": [],
   "source": [
    "W1 = np.random.randn(2,4)  # weight: 2 x 4 matrix\n",
    "b1 = np.random.randn(4)    # bias: 1 x 4 vector\n",
    "x = np.random.randn(10,2)  # input: N x 2 matrix\n",
    "h = np.dot(x, W1) + b1"
   ]
  },
  {
   "cell_type": "code",
   "execution_count": 3,
   "metadata": {
    "collapsed": false
   },
   "outputs": [
    {
     "name": "stdout",
     "output_type": "stream",
     "text": [
      "Input:\n",
      "[[ 0.31719143 -0.35033051]\n",
      " [-1.58059797  1.44754231]\n",
      " [ 0.44068965  0.37369799]\n",
      " [ 0.65636898  0.14147381]\n",
      " [-0.53938245  0.20126452]\n",
      " [ 0.60912839 -0.52009345]\n",
      " [-1.00939863 -1.75688682]\n",
      " [-1.1366599  -1.30483208]\n",
      " [ 0.7724065   0.12782597]\n",
      " [ 0.17147725 -0.18205193]]\n",
      "Hidden:\n",
      "[[ 0.12630856  1.18096659  0.99729777 -0.28619586]\n",
      " [-3.78906646  2.90163171  2.73923292  0.97796861]\n",
      " [-0.1098207   1.38517739  1.16803793 -0.81829687]\n",
      " [ 0.35143834  1.17913879  0.96064647 -0.94704337]\n",
      " [-1.48921228  1.85989265  1.69573904  0.42339087]\n",
      " [ 0.66626739  0.9564295   0.76541397 -0.53778808]\n",
      " [-1.05599297  1.38247645  1.31528526  2.02198963]\n",
      " [-1.51204765  1.62248501  1.5440731   1.92945673]\n",
      " [ 0.53463749  1.11012784  0.88666174 -1.07583599]\n",
      " [-0.19196724  1.32444824  1.14125899 -0.20530431]]\n"
     ]
    }
   ],
   "source": [
    "print(\"Input:\")\n",
    "print(x)\n",
    "print(\"Hidden:\")\n",
    "print(h)"
   ]
  },
  {
   "cell_type": "markdown",
   "metadata": {
    "collapsed": true
   },
   "source": [
    "## Activation Function / Non-linear Capability"
   ]
  },
  {
   "cell_type": "code",
   "execution_count": 4,
   "metadata": {
    "collapsed": true
   },
   "outputs": [],
   "source": [
    "def sigmoid(x):\n",
    "    return 1 / (1 + np.exp(-x))"
   ]
  },
  {
   "cell_type": "code",
   "execution_count": 5,
   "metadata": {
    "collapsed": true
   },
   "outputs": [],
   "source": [
    "_x = np.arange(-8,9,0.5)\n",
    "_y = sigmoid(_x)"
   ]
  },
  {
   "cell_type": "code",
   "execution_count": 6,
   "metadata": {
    "collapsed": false
   },
   "outputs": [
    {
     "data": {
      "image/png": "[encoded data removed]",
      "text/plain": [
       "<matplotlib.figure.Figure at 0x1dcd0243d68>"
      ]
     },
     "metadata": {},
     "output_type": "display_data"
    }
   ],
   "source": [
    "plt.plot(_x, _y)\n",
    "plt.show()"
   ]
  },
  {
   "cell_type": "code",
   "execution_count": 7,
   "metadata": {
    "collapsed": false
   },
   "outputs": [
    {
     "data": {
      "text/plain": [
       "array([[0.53153523, 0.76512155, 0.73052696, 0.42893544],\n",
       "       [0.0221165 , 0.94792704, 0.93930238, 0.72670496],\n",
       "       [0.47257239, 0.79982123, 0.76279018, 0.30612531],\n",
       "       [0.58696633, 0.76479292, 0.72325122, 0.27947981],\n",
       "       [0.18403999, 0.86528444, 0.84497741, 0.60429437],\n",
       "       [0.66066686, 0.72240636, 0.68252801, 0.36870228],\n",
       "       [0.25807595, 0.79938843, 0.78839623, 0.88308658],\n",
       "       [0.18063553, 0.83513756, 0.82405605, 0.87318928],\n",
       "       [0.63056408, 0.75215294, 0.70820079, 0.25429483],\n",
       "       [0.45215503, 0.78992083, 0.75791072, 0.44885345]])"
      ]
     },
     "execution_count": 7,
     "metadata": {},
     "output_type": "execute_result"
    }
   ],
   "source": [
    "sigmoid(h)"
   ]
  },
  {
   "cell_type": "markdown",
   "metadata": {},
   "source": [
    "## Simple Double Layers Dense Neural Network "
   ]
  },
  {
   "cell_type": "code",
   "execution_count": 8,
   "metadata": {
    "collapsed": true
   },
   "outputs": [],
   "source": [
    "x = np.random.randn(10, 2)   # input: 10 x 2 matrix, 10: data count, 2: dimension\n",
    "W1 = np.random.randn(2, 4)   # weight_1: 2 x 4 matrix, 2: data dimension, 4: node count in the hidden layer\n",
    "b1 = np.random.randn(4)      # bias_1: (4,) vector\n",
    "W2 = np.random.randn(4, 3)   # weight_2: 4 x 3 matrix, 4: node count in the hidden layer\n",
    "b2 = np.random.randn(3)      # bias_2: (3,) vector\n",
    "\n",
    "h = np.dot(x, W1) + b1       # 10 x 4\n",
    "a = sigmoid(h)               # 10 x 4\n",
    "s = np.dot(a, W2) + b2       # 10 x 3"
   ]
  },
  {
   "cell_type": "code",
   "execution_count": 9,
   "metadata": {
    "collapsed": false
   },
   "outputs": [
    {
     "name": "stdout",
     "output_type": "stream",
     "text": [
      "[[ 2.49013472e-02  3.38842531e-01  8.93817305e-02]\n",
      " [-8.37859196e-02  5.08259328e-01 -3.89553512e-01]\n",
      " [ 5.26030606e-01 -7.11120155e-01  8.31766177e-02]\n",
      " [ 6.84293521e-01 -7.34397436e-01  2.73150911e-01]\n",
      " [ 5.66212676e-02 -2.18770215e-02 -1.94014518e-02]\n",
      " [-6.79998944e-03  3.26580197e-01  2.57332450e-04]\n",
      " [ 8.27190415e-02  2.20485263e-03  1.17770544e-01]\n",
      " [ 3.84548533e-02 -1.83100033e-02 -1.13458325e-01]\n",
      " [ 7.63119764e-02  1.39921249e-01  2.04267853e-01]\n",
      " [-2.97581447e-02  5.28949158e-01 -9.99762092e-02]]\n"
     ]
    }
   ],
   "source": [
    "print(s)"
   ]
  },
  {
   "cell_type": "markdown",
   "metadata": {},
   "source": [
    "## A Simple Two Layer Neural Network"
   ]
  },
  {
   "cell_type": "code",
   "execution_count": 10,
   "metadata": {
    "collapsed": true
   },
   "outputs": [],
   "source": [
    "class Sigmoid:\n",
    "    def __init__(self):\n",
    "        self.params = []\n",
    "    \n",
    "    def forward(self, x):\n",
    "        out = 1.0 / (1.0 + np.exp(-x))\n",
    "        return out"
   ]
  },
  {
   "cell_type": "code",
   "execution_count": 11,
   "metadata": {
    "collapsed": true
   },
   "outputs": [],
   "source": [
    "class Affine:\n",
    "    def __init__(self, W, b):\n",
    "        self.params = [W, b]\n",
    "    \n",
    "    def forward(self, x):\n",
    "        W, b = self.params\n",
    "        out = np.dot(x, W) + b\n",
    "        return out"
   ]
  },
  {
   "cell_type": "code",
   "execution_count": 12,
   "metadata": {
    "collapsed": true
   },
   "outputs": [],
   "source": [
    "class TwoLayerNet:\n",
    "    def __init__(self, input_size, hidden_size, output_size):\n",
    "        I, H, O = input_size, hidden_size, output_size\n",
    "        \n",
    "        # initialize weights and biases for each layer\n",
    "        W1 = np.random.randn(I, H)\n",
    "        b1 = np.random.randn(H)\n",
    "        W2 = np.random.randn(H, O)\n",
    "        b2 = np.random.randn(O)\n",
    "        \n",
    "        # generate each layer\n",
    "        self.layers = [\n",
    "            Affine(W1, b1),\n",
    "            Sigmoid(),\n",
    "            Affine(W2, b2)\n",
    "        ]\n",
    "        \n",
    "        # concatenate all weights into a list\n",
    "        self.params = []\n",
    "        for layer in self.layers:\n",
    "            self.params += layer.params\n",
    "            \n",
    "    def predict(self, x):\n",
    "        for layer in self.layers:\n",
    "            x = layer.forward(x)\n",
    "        return x"
   ]
  },
  {
   "cell_type": "code",
   "execution_count": 13,
   "metadata": {
    "collapsed": true
   },
   "outputs": [],
   "source": [
    "x = np.random.randn(10, 2)\n",
    "model = TwoLayerNet(2, 4, 3)\n",
    "s = model.predict(x)"
   ]
  },
  {
   "cell_type": "code",
   "execution_count": 14,
   "metadata": {
    "collapsed": false
   },
   "outputs": [
    {
     "name": "stdout",
     "output_type": "stream",
     "text": [
      "[[-1.5660078   0.5614548  -1.01340762]\n",
      " [-1.6695416   0.49612605 -1.06076665]\n",
      " [-0.60960045  0.68072182 -0.80469953]\n",
      " [-0.36140379  1.01393921 -0.59717561]\n",
      " [-1.1976962   0.91585662 -0.74518972]\n",
      " [ 0.09175663 -0.43702425 -1.24069424]\n",
      " [-0.42097402  0.68062482 -0.77489736]\n",
      " [-0.85625715  1.20083298 -0.41060975]\n",
      " [-1.30019354  0.509659   -1.00166284]\n",
      " [-1.30850614  0.64201668 -0.93306883]]\n"
     ]
    }
   ],
   "source": [
    "print(s)"
   ]
  },
  {
   "cell_type": "markdown",
   "metadata": {},
   "source": [
    "# Learning"
   ]
  },
  {
   "cell_type": "markdown",
   "metadata": {},
   "source": [
    "## Softmax\n",
    "\n",
    "$$y_k = \\frac{exp(s_i)}{\\sum^{n}_{i=1}exp(s_i)}$$"
   ]
  },
  {
   "cell_type": "markdown",
   "metadata": {},
   "source": [
    "## Loss Function : Cross Entropy\n",
    "\n",
    "* For a single data.\n",
    "\n",
    "$$L = -\\sum_{k}t_{k}log_{e}y_{k}$$\n",
    "\n",
    "* For a mini-batch dataset\n",
    "$$L = -\\frac{1}{N}\\sum_{n}\\sum_{k}t_{nk}log_{e}y_{nk}$$"
   ]
  },
  {
   "cell_type": "code",
   "execution_count": 15,
   "metadata": {
    "collapsed": true
   },
   "outputs": [],
   "source": [
    "def Softmax(x):\n",
    "    if x.ndim == 2:\n",
    "        x = x.T\n",
    "        x = x - np.mean(x, axis=0)\n",
    "        y = np.exp(x) / np.sum(np.exp(x), axis=0)\n",
    "        return y.T\n",
    "    else:\n",
    "        # ndim == 1\n",
    "        x = x - np.mean(x)\n",
    "        return np.exp(x) / np.sum(np.exp(x))"
   ]
  },
  {
   "cell_type": "code",
   "execution_count": 16,
   "metadata": {
    "collapsed": true
   },
   "outputs": [],
   "source": [
    "def Cross_Entropy_Error(y, t):\n",
    "    if y.ndim == 1:\n",
    "        t = t.reshape(1, t.size)\n",
    "        y = y.reshape(1, y.size)\n",
    "    \n",
    "    if t.size == y.size:\n",
    "        t = t.argmax(axis=1)\n",
    "        \n",
    "    batch_size = y.shape[0]\n",
    "    return -np.sum(np.log(y[np.arange(batch_size), t] + 1e-7)) / batch_size"
   ]
  },
  {
   "cell_type": "code",
   "execution_count": 17,
   "metadata": {
    "collapsed": false
   },
   "outputs": [
    {
     "data": {
      "text/plain": [
       "2.18317110042923"
      ]
     },
     "execution_count": 17,
     "metadata": {},
     "output_type": "execute_result"
    }
   ],
   "source": [
    "_y = Softmax(np.random.randn(10))\n",
    "_t = np.array([1] + [0]*9)\n",
    "Cross_Entropy_Error(_y, _t)"
   ]
  },
  {
   "cell_type": "code",
   "execution_count": 18,
   "metadata": {
    "collapsed": true
   },
   "outputs": [],
   "source": [
    "def SoftmaxWithLoss(y, t):\n",
    "    y_ = Softmax(y)\n",
    "    l_ = Cross_Entropy_Error(y_, t)\n",
    "    return l_"
   ]
  },
  {
   "cell_type": "code",
   "execution_count": 19,
   "metadata": {
    "collapsed": false
   },
   "outputs": [
    {
     "data": {
      "text/plain": [
       "1.0715834875816794"
      ]
     },
     "execution_count": 19,
     "metadata": {},
     "output_type": "execute_result"
    }
   ],
   "source": [
    "y_ = np.random.randn(10)\n",
    "t_ = np.array([0]*2 + [1] + [0]*7)\n",
    "SoftmaxWithLoss(y_, t_)"
   ]
  },
  {
   "cell_type": "markdown",
   "metadata": {},
   "source": [
    "## Differential vs. Gradient\n",
    "\n",
    "$$\\frac{\\partial{L}}{\\partial{W}} = \\begin{bmatrix}\n",
    "\\frac{\\partial{L}}{\\partial{W_{11}}} & \\frac{\\partial{L}}{\\partial{W_{12}}} & \\dots & \\frac{\\partial{L}}{\\partial{W_{1n}}} \\\\\n",
    "\\vdots & \\vdots & \\ddots & \\vdots \\\\\n",
    "\\frac{\\partial{L}}{\\partial{W_{m1}}} & \\frac{\\partial{L}}{\\partial{W_{m2}}} & \\dots & \\frac{\\partial{L}}{\\partial{W_{mn}}}\n",
    "\\end{bmatrix}$$"
   ]
  },
  {
   "cell_type": "markdown",
   "metadata": {},
   "source": [
    "## Chain Rule vs. Back Propagation\n",
    "\n",
    "Assume $y = f(x)$ and $z = g(y)$, that is $z = g(f(x))$.\n",
    "Calculate $\\frac{\\partial{z}}{\\partial{x}}$ ?\n",
    "\n",
    "**Chain Rule**:\n",
    "So, $\\frac{\\partial{z}}{\\partial{x}} = \\frac{\\partial{z}}{\\partial{y}}\\frac{\\partial{y}}{\\partial{x}}$\n",
    "\n",
    "**Back Propagation**:\n",
    "Assume there are two layers in network, then $\\frac{\\partial{z}}{\\partial{y}}$ is the final network layer, $\\frac{\\partial{y}}{\\partial{x}}$ is the first network layer.\n"
   ]
  },
  {
   "cell_type": "markdown",
   "metadata": {
    "collapsed": true
   },
   "source": [
    "## Graph: Repeat Node in Back Propagation (same data to different tasks)"
   ]
  },
  {
   "cell_type": "code",
   "execution_count": 20,
   "metadata": {
    "collapsed": true
   },
   "outputs": [],
   "source": [
    "D, N = 8, 7\n",
    "x = np.random.randn(1, D)\n",
    "y = np.repeat(x, N, axis=0)"
   ]
  },
  {
   "cell_type": "code",
   "execution_count": 21,
   "metadata": {
    "collapsed": false
   },
   "outputs": [
    {
     "data": {
      "text/plain": [
       "array([[ 1.47718005,  1.19647799, -1.51013273,  0.03141061,  1.51608427,\n",
       "        -0.03859753,  1.54006147, -0.33741218],\n",
       "       [ 1.47718005,  1.19647799, -1.51013273,  0.03141061,  1.51608427,\n",
       "        -0.03859753,  1.54006147, -0.33741218],\n",
       "       [ 1.47718005,  1.19647799, -1.51013273,  0.03141061,  1.51608427,\n",
       "        -0.03859753,  1.54006147, -0.33741218],\n",
       "       [ 1.47718005,  1.19647799, -1.51013273,  0.03141061,  1.51608427,\n",
       "        -0.03859753,  1.54006147, -0.33741218],\n",
       "       [ 1.47718005,  1.19647799, -1.51013273,  0.03141061,  1.51608427,\n",
       "        -0.03859753,  1.54006147, -0.33741218],\n",
       "       [ 1.47718005,  1.19647799, -1.51013273,  0.03141061,  1.51608427,\n",
       "        -0.03859753,  1.54006147, -0.33741218],\n",
       "       [ 1.47718005,  1.19647799, -1.51013273,  0.03141061,  1.51608427,\n",
       "        -0.03859753,  1.54006147, -0.33741218]])"
      ]
     },
     "execution_count": 21,
     "metadata": {},
     "output_type": "execute_result"
    }
   ],
   "source": [
    "y"
   ]
  },
  {
   "cell_type": "code",
   "execution_count": 22,
   "metadata": {
    "collapsed": true
   },
   "outputs": [],
   "source": [
    "dy = np.random.randn(N, D)\n",
    "dx = np.sum(dy, axis=0, keepdims=True)"
   ]
  },
  {
   "cell_type": "code",
   "execution_count": 23,
   "metadata": {
    "collapsed": false
   },
   "outputs": [
    {
     "data": {
      "text/plain": [
       "array([[ 3.51603162, -0.96025729, -1.94263772,  1.02929744, -1.26039361,\n",
       "        -3.02640952,  2.02077802,  6.17912444]])"
      ]
     },
     "execution_count": 23,
     "metadata": {},
     "output_type": "execute_result"
    }
   ],
   "source": [
    "dx"
   ]
  },
  {
   "cell_type": "markdown",
   "metadata": {},
   "source": [
    "## Graph: Sum Node in Back Propagation (is opposite to Repeat Node)"
   ]
  },
  {
   "cell_type": "code",
   "execution_count": 24,
   "metadata": {
    "collapsed": true
   },
   "outputs": [],
   "source": [
    "D, N = 8, 7\n",
    "x = np.random.randn(N, D)\n",
    "y = np.sum(x, axis=0, keepdims=True)   # forward"
   ]
  },
  {
   "cell_type": "code",
   "execution_count": 25,
   "metadata": {
    "collapsed": false
   },
   "outputs": [
    {
     "data": {
      "text/plain": [
       "array([[-1.0773302 , -4.20331002,  1.29637286,  4.39158553, -4.89622415,\n",
       "         0.35559169,  0.10799764,  0.93340163]])"
      ]
     },
     "execution_count": 25,
     "metadata": {},
     "output_type": "execute_result"
    }
   ],
   "source": [
    "y"
   ]
  },
  {
   "cell_type": "code",
   "execution_count": 26,
   "metadata": {
    "collapsed": true
   },
   "outputs": [],
   "source": [
    "dy = np.random.randn(1, D)\n",
    "dx = np.repeat(dy, N, axis=0)  # backward"
   ]
  },
  {
   "cell_type": "code",
   "execution_count": 27,
   "metadata": {
    "collapsed": false
   },
   "outputs": [
    {
     "data": {
      "text/plain": [
       "array([[-0.15513489,  1.08836002,  1.10749073,  0.40834269, -0.06140554,\n",
       "         1.30490839, -1.79837753,  0.48382086],\n",
       "       [-0.15513489,  1.08836002,  1.10749073,  0.40834269, -0.06140554,\n",
       "         1.30490839, -1.79837753,  0.48382086],\n",
       "       [-0.15513489,  1.08836002,  1.10749073,  0.40834269, -0.06140554,\n",
       "         1.30490839, -1.79837753,  0.48382086],\n",
       "       [-0.15513489,  1.08836002,  1.10749073,  0.40834269, -0.06140554,\n",
       "         1.30490839, -1.79837753,  0.48382086],\n",
       "       [-0.15513489,  1.08836002,  1.10749073,  0.40834269, -0.06140554,\n",
       "         1.30490839, -1.79837753,  0.48382086],\n",
       "       [-0.15513489,  1.08836002,  1.10749073,  0.40834269, -0.06140554,\n",
       "         1.30490839, -1.79837753,  0.48382086],\n",
       "       [-0.15513489,  1.08836002,  1.10749073,  0.40834269, -0.06140554,\n",
       "         1.30490839, -1.79837753,  0.48382086]])"
      ]
     },
     "execution_count": 27,
     "metadata": {},
     "output_type": "execute_result"
    }
   ],
   "source": [
    "dx"
   ]
  },
  {
   "cell_type": "markdown",
   "metadata": {},
   "source": [
    "## MatMul in Back Propagation"
   ]
  },
  {
   "cell_type": "code",
   "execution_count": 28,
   "metadata": {
    "collapsed": true
   },
   "outputs": [],
   "source": [
    "class MatMul:\n",
    "    def __init__(self, W):\n",
    "        self.params = [W]\n",
    "        self.grads = [np.zeros_like(W)]\n",
    "        self.x = None\n",
    "        \n",
    "    def forward(self, x):\n",
    "        W, = self.params\n",
    "        out = np.dot(x, W)\n",
    "        self.x = x\n",
    "        return out\n",
    "    \n",
    "    def backward(self, dout):\n",
    "        W, = self.params\n",
    "        dx = np.dot(dout, W.T)\n",
    "        dW = np.dot(self.x.T, dout)\n",
    "        self.grads[0][...] = dW   # deep copy\n",
    "        return dx"
   ]
  },
  {
   "cell_type": "markdown",
   "metadata": {},
   "source": [
    "## Sigmoid in Back Propagation\n",
    "\n",
    "$$Sigmoid = y = \\frac{1}{1+exp(-x)}$$\n",
    "$$\\frac{\\partial{y}}{\\partial{x}} = y*(1-y)$$"
   ]
  },
  {
   "cell_type": "code",
   "execution_count": 29,
   "metadata": {
    "collapsed": true
   },
   "outputs": [],
   "source": [
    "class Sigmoid:\n",
    "    def __init__(self):\n",
    "        self.params, self.grads = [], []\n",
    "        self.out = None\n",
    "        \n",
    "    def forward(self, x):\n",
    "        self.out = 1 / (1 + np.exp(-x))\n",
    "        return self.out\n",
    "    \n",
    "    def backward(self, dout):\n",
    "        dx = dout * self.out * (1 - self.out)\n",
    "        return dx"
   ]
  },
  {
   "cell_type": "markdown",
   "metadata": {},
   "source": [
    "## Affine in Back Propagation"
   ]
  },
  {
   "cell_type": "code",
   "execution_count": 30,
   "metadata": {
    "collapsed": true
   },
   "outputs": [],
   "source": [
    "class Affine:\n",
    "    def __init__(self, W, b):\n",
    "        self.params = [W, b]\n",
    "        self.grads = [np.zeros_like(W), np.zeros_like(b)]\n",
    "        self.x = None\n",
    "    \n",
    "    def forward(self, x):\n",
    "        W, b = self.params\n",
    "        self.x = x\n",
    "        return np.dot(x, W) + b\n",
    "    \n",
    "    def backward(self, dout):\n",
    "        # Affine backward\n",
    "        W, b = self.params\n",
    "        dx = np.dot(dout, W.T)\n",
    "        dW = np.dot(self.x.T, dout)\n",
    "        db = np.sum(dout, axis=0)\n",
    "        \n",
    "        self.grads[0][...] = dW\n",
    "        self.grads[1][...] = db\n",
    "        return dx"
   ]
  },
  {
   "cell_type": "markdown",
   "metadata": {},
   "source": [
    "## SoftmaxWithLoss in Back Propagation"
   ]
  },
  {
   "cell_type": "code",
   "execution_count": 31,
   "metadata": {
    "collapsed": true
   },
   "outputs": [],
   "source": [
    "class SoftmaxWithLoss:\n",
    "    def __softmax(self, x):\n",
    "        if x.ndim == 2:\n",
    "            x = x.T\n",
    "            x = x - np.mean(x, axis=0)\n",
    "            y = np.exp(x) / np.sum(np.exp(x), axis=0)\n",
    "            return y.T\n",
    "        else:\n",
    "            # ndim == 1\n",
    "            x = x - np.mean(x)\n",
    "            return np.exp(x) / np.sum(np.exp(x))        \n",
    "    \n",
    "    def __cross_entropy_error(self, y, t):\n",
    "        if y.ndim == 1:\n",
    "            t = t.reshape(1, t.size)\n",
    "            y = y.reshape(1, y.size)\n",
    "\n",
    "        if t.size == y.size:\n",
    "            t = t.argmax(axis=1)\n",
    "\n",
    "        batch_size = y.shape[0]\n",
    "        return -np.sum(np.log(y[np.arange(batch_size), t] + 1e-7)) / batch_size        \n",
    "    \n",
    "    def __init__(self):\n",
    "        self.y, self.t = None, None\n",
    "    \n",
    "    def forward(self, x, t):\n",
    "        self.t = t\n",
    "        self.y = self.__softmax(x)\n",
    "        \n",
    "        if self.t.size == self.y.size:\n",
    "            self.t = self.t.argmax(axis=1)\n",
    "        \n",
    "        _l = self.__cross_entropy_error(self.y, self.t)\n",
    "        return _l\n",
    "    \n",
    "    def backward(self, dout=1):\n",
    "        batch_size = self.t.shape[0]\n",
    "        \n",
    "        dx = self.y.copy()\n",
    "        dx[np.arange(batch_size), self.t] -= 1\n",
    "        dx *= dout\n",
    "        dx = dx / batch_size\n",
    "        \n",
    "        return dx"
   ]
  },
  {
   "cell_type": "markdown",
   "metadata": {},
   "source": [
    "## Updating Weights"
   ]
  },
  {
   "cell_type": "code",
   "execution_count": 32,
   "metadata": {
    "collapsed": true
   },
   "outputs": [],
   "source": [
    "class SGD:\n",
    "    def __init__(self, lr=1e-2):\n",
    "        self.lr = lr\n",
    "        \n",
    "    def update(self, params, grads):\n",
    "        for i in range(len(params)):\n",
    "            # notice matrix calculation, must use -=\n",
    "            params[i] -= self.lr*grads[i]"
   ]
  },
  {
   "cell_type": "markdown",
   "metadata": {},
   "source": [
    "# Example"
   ]
  },
  {
   "cell_type": "markdown",
   "metadata": {},
   "source": [
    "## Generating A Dataset"
   ]
  },
  {
   "cell_type": "code",
   "execution_count": 33,
   "metadata": {
    "collapsed": true
   },
   "outputs": [],
   "source": [
    "def load_data(seed=1988):\n",
    "    np.random.seed(seed)\n",
    "    N = 100\n",
    "    DIM = 2\n",
    "    CLS_NUM = 3\n",
    "    \n",
    "    x = np.zeros((N*CLS_NUM, DIM))   # (300, 2)\n",
    "    t = np.zeros((N*CLS_NUM, CLS_NUM), dtype=np.int)   # (300, 3)\n",
    "    \n",
    "    for j in range(CLS_NUM):\n",
    "        for i in range(N):\n",
    "            rate = i / N\n",
    "            radius = 1.0 * rate\n",
    "            theta = j*4.0 + 4.0*rate + np.random.randn() * 0.2\n",
    "            \n",
    "            ix = N*j + i\n",
    "            x[ix] = np.array([radius * np.sin(theta), radius * np.cos(theta)]).flatten()\n",
    "            \n",
    "            t[ix, j] = 1\n",
    "            \n",
    "    return x, t"
   ]
  },
  {
   "cell_type": "code",
   "execution_count": 34,
   "metadata": {
    "collapsed": true
   },
   "outputs": [],
   "source": [
    "x, t = load_data()"
   ]
  },
  {
   "cell_type": "code",
   "execution_count": 35,
   "metadata": {
    "collapsed": false
   },
   "outputs": [
    {
     "name": "stdout",
     "output_type": "stream",
     "text": [
      "(300, 2) (300, 3)\n"
     ]
    }
   ],
   "source": [
    "print(x.shape, t.shape)"
   ]
  },
  {
   "cell_type": "code",
   "execution_count": 36,
   "metadata": {
    "collapsed": false
   },
   "outputs": [
    {
     "data": {
      "image/png": "[encoded data removed]",
      "text/plain": [
       "<matplotlib.figure.Figure at 0x1dcd02db9b0>"
      ]
     },
     "metadata": {},
     "output_type": "display_data"
    }
   ],
   "source": [
    "plt.plot(x[:100,0], x[:100,1], 'ro')\n",
    "plt.plot(x[101:200,0], x[101:200,1], 'g+')\n",
    "plt.plot(x[201:300,0], x[201:300,1], 'bx')\n",
    "plt.show()"
   ]
  },
  {
   "cell_type": "markdown",
   "metadata": {},
   "source": [
    "## Build a Neural Network"
   ]
  },
  {
   "cell_type": "code",
   "execution_count": 37,
   "metadata": {
    "collapsed": true
   },
   "outputs": [],
   "source": [
    "class TwoLayerNeuralNetwork:\n",
    "    def __init__(self, input_size, hidden_size, output_size):\n",
    "        I, H, O = input_size, hidden_size, output_size\n",
    "        \n",
    "        # weight and bias initialization\n",
    "        W1 = 0.01 * np.random.randn(I, H)\n",
    "        b1 = np.zeros(H)\n",
    "        W2 = 0.01 * np.random.randn(H, O)\n",
    "        b2 = np.zeros(O)\n",
    "        \n",
    "        # layers in the network\n",
    "        self.layers = [\n",
    "            Affine(W1, b1),\n",
    "            Sigmoid(),\n",
    "            Affine(W2, b2)\n",
    "        ]\n",
    "        self.loss_layer = SoftmaxWithLoss()\n",
    "        \n",
    "        # saving all weights and grads\n",
    "        self.params, self.grads = [], []\n",
    "        for layer in self.layers:\n",
    "            self.params += layer.params\n",
    "            self.grads += layer.grads\n",
    "        \n",
    "    \n",
    "    def predict(self, x):\n",
    "        for layer in self.layers:\n",
    "            x = layer.forward(x)\n",
    "        return x\n",
    "    \n",
    "    def forward(self, x, t):\n",
    "        # here we take loss as the result returned\n",
    "        score = self.predict(x)\n",
    "        loss = self.loss_layer.forward(score, t)\n",
    "        return loss\n",
    "    \n",
    "    def backward(self, dout=1):\n",
    "        dout = self.loss_layer.backward(dout)\n",
    "        # notice here is reversed order\n",
    "        for layer in reversed(self.layers):\n",
    "            dout = layer.backward(dout)\n",
    "        return dout"
   ]
  },
  {
   "cell_type": "markdown",
   "metadata": {},
   "source": [
    "## Starting Training"
   ]
  },
  {
   "cell_type": "code",
   "execution_count": 38,
   "metadata": {
    "collapsed": false
   },
   "outputs": [
    {
     "name": "stdout",
     "output_type": "stream",
     "text": [
      "epoch 0: average loss 1.1498947735655973\n",
      "epoch 10: average loss 1.153357032859678\n",
      "epoch 20: average loss 0.8530677692632324\n",
      "epoch 30: average loss 0.7636921642603046\n",
      "epoch 40: average loss 0.7517867482915448\n",
      "epoch 50: average loss 0.7469596597609496\n",
      "epoch 60: average loss 0.7321557877814673\n",
      "epoch 70: average loss 0.6865837345939918\n",
      "epoch 80: average loss 0.6233020646502412\n",
      "epoch 90: average loss 0.54763921103511\n",
      "epoch 100: average loss 0.4794548676144861\n",
      "epoch 110: average loss 0.41985262981430777\n",
      "epoch 120: average loss 0.37700560611434714\n",
      "epoch 130: average loss 0.329048620046014\n",
      "epoch 140: average loss 0.307821235768467\n",
      "epoch 150: average loss 0.2771438447427136\n",
      "epoch 160: average loss 0.2640813783493254\n",
      "epoch 170: average loss 0.24143930970978852\n",
      "epoch 180: average loss 0.22618857818675525\n",
      "epoch 190: average loss 0.21713875560181384\n",
      "epoch 200: average loss 0.2013352824061784\n",
      "epoch 210: average loss 0.1941447352997256\n",
      "epoch 220: average loss 0.1822205481860252\n",
      "epoch 230: average loss 0.17240472575583904\n",
      "epoch 240: average loss 0.17095024064107261\n",
      "epoch 250: average loss 0.16403396817969448\n",
      "epoch 260: average loss 0.1581452319526881\n",
      "epoch 270: average loss 0.15132516296651224\n",
      "epoch 280: average loss 0.14855221644110977\n",
      "epoch 290: average loss 0.14231796385529888\n",
      "epoch 300: average loss 0.13366377096165732\n"
     ]
    }
   ],
   "source": [
    "# hyperparameters\n",
    "max_epoch = 301\n",
    "batch_size = 30\n",
    "hidden_size = 10\n",
    "learning_rate = 1.0\n",
    "\n",
    "# load the dataset\n",
    "x, t = load_data()\n",
    "\n",
    "# generate model and optimizer\n",
    "model = TwoLayerNeuralNetwork(input_size=2, hidden_size=hidden_size, output_size=3)\n",
    "optimizer = SGD(lr=learning_rate)\n",
    "\n",
    "# learning\n",
    "data_size = len(x)\n",
    "iters = data_size // batch_size\n",
    "total_loss = 0\n",
    "loss_count = 0\n",
    "loss_list = []\n",
    "\n",
    "# start learning\n",
    "for epoch in range(max_epoch):\n",
    "    # data preprocessing\n",
    "    idx = np.random.permutation(data_size)\n",
    "    _x = x[idx]\n",
    "    _t = t[idx]\n",
    "    \n",
    "    for it in range(iters):\n",
    "        batch_x = _x[it*batch_size:(it+1)*batch_size]\n",
    "        batch_t = _t[it*batch_size:(it+1)*batch_size]\n",
    "        \n",
    "        # calculate loss and update the parameters\n",
    "        loss = model.forward(batch_x, batch_t)\n",
    "        model.backward()\n",
    "        optimizer.update(model.params, model.grads)\n",
    "        \n",
    "        total_loss += loss\n",
    "        loss_count += 1\n",
    "        \n",
    "    if epoch % 2 == 0:\n",
    "        avg_loss = total_loss / loss_count\n",
    "        if epoch % 10 == 0: print(\"epoch {}: average loss {}\".format(epoch, avg_loss))\n",
    "        loss_list.append(avg_loss)\n",
    "        total_loss, loss_count = 0, 0"
   ]
  },
  {
   "cell_type": "code",
   "execution_count": 39,
   "metadata": {
    "collapsed": false
   },
   "outputs": [
    {
     "data": {
      "image/png": "[encoded data removed]",
      "text/plain": [
       "<matplotlib.figure.Figure at 0x1dcd029ab70>"
      ]
     },
     "metadata": {},
     "output_type": "display_data"
    }
   ],
   "source": [
    "plt.plot(loss_list)\n",
    "plt.show()"
   ]
  },
  {
   "cell_type": "markdown",
   "metadata": {},
   "source": [
    "## Decision Boundary"
   ]
  },
  {
   "cell_type": "code",
   "execution_count": 40,
   "metadata": {
    "collapsed": false
   },
   "outputs": [
    {
     "data": {
      "image/png": "[encoded data removed]",
      "text/plain": [
       "<matplotlib.figure.Figure at 0x1dcd034f7f0>"
      ]
     },
     "metadata": {},
     "output_type": "display_data"
    }
   ],
   "source": [
    "xx, yy = np.meshgrid(np.arange(-1.2, 1.3, 0.05), np.arange(-1.0, 1.1, 0.05))\n",
    "x_list, y_list = [], []\n",
    "\n",
    "for _x, _y in zip(xx, yy):\n",
    "    for px, py in zip(_x, _y):\n",
    "        x_list.append(px)\n",
    "        y_list.append(py)\n",
    "d = np.array([x_list, y_list]).T\n",
    "z_list = model.predict(d)\n",
    "z_list = z_list.argmax(axis=1)\n",
    "\n",
    "plt.plot(x[:100,0], x[:100,1], 'ro')\n",
    "plt.plot(x[101:200,0], x[101:200,1], 'g+')\n",
    "plt.plot(x[201:300,0], x[201:300,1], 'bx')\n",
    "\n",
    "for _x, _y, _z in zip(x_list, y_list, z_list):\n",
    "    if _z == 0:\n",
    "        plt.plot(_x, _y, 'r.')\n",
    "    elif _z == 1:\n",
    "        plt.plot(_x, _y, 'g.')\n",
    "    elif _z == 2:\n",
    "        plt.plot(_x, _y, 'b.')\n",
    "\n",
    "plt.show()"
   ]
  },
  {
   "cell_type": "markdown",
   "metadata": {},
   "source": [
    "## Using Trainer\n",
    "\n",
    "Here we use high-level API to start a training."
   ]
  },
  {
   "cell_type": "code",
   "execution_count": 42,
   "metadata": {
    "collapsed": false
   },
   "outputs": [],
   "source": [
    "from common.trainer import Trainer"
   ]
  },
  {
   "cell_type": "code",
   "execution_count": 43,
   "metadata": {
    "collapsed": true
   },
   "outputs": [],
   "source": [
    "max_epoch = 300\n",
    "batch_size = 30\n",
    "hidden_size = 10\n",
    "learning_rate = 1.0"
   ]
  },
  {
   "cell_type": "code",
   "execution_count": 44,
   "metadata": {
    "collapsed": true
   },
   "outputs": [],
   "source": [
    "x, t = load_data()\n",
    "model = TwoLayerNeuralNetwork(input_size=2, hidden_size=hidden_size, output_size=3)\n",
    "optimizer = SGD(lr=learning_rate)"
   ]
  },
  {
   "cell_type": "code",
   "execution_count": 45,
   "metadata": {
    "collapsed": false,
    "scrolled": false
   },
   "outputs": [
    {
     "name": "stdout",
     "output_type": "stream",
     "text": [
      "| epoch 1 |  iter 1 / 10 | time 0[s] | loss 1.10\n",
      "| epoch 2 |  iter 1 / 10 | time 0[s] | loss 1.15\n",
      "| epoch 3 |  iter 1 / 10 | time 0[s] | loss 1.15\n",
      "| epoch 4 |  iter 1 / 10 | time 0[s] | loss 1.15\n",
      "| epoch 5 |  iter 1 / 10 | time 0[s] | loss 1.16\n",
      "| epoch 6 |  iter 1 / 10 | time 0[s] | loss 1.14\n",
      "| epoch 7 |  iter 1 / 10 | time 0[s] | loss 1.12\n",
      "| epoch 8 |  iter 1 / 10 | time 0[s] | loss 1.12\n",
      "| epoch 9 |  iter 1 / 10 | time 0[s] | loss 1.16\n",
      "| epoch 10 |  iter 1 / 10 | time 0[s] | loss 1.12\n",
      "| epoch 11 |  iter 1 / 10 | time 0[s] | loss 1.14\n",
      "| epoch 12 |  iter 1 / 10 | time 0[s] | loss 1.13\n",
      "| epoch 13 |  iter 1 / 10 | time 0[s] | loss 1.10\n",
      "| epoch 14 |  iter 1 / 10 | time 0[s] | loss 1.08\n",
      "| epoch 15 |  iter 1 / 10 | time 0[s] | loss 1.08\n",
      "| epoch 16 |  iter 1 / 10 | time 0[s] | loss 1.05\n",
      "| epoch 17 |  iter 1 / 10 | time 0[s] | loss 1.02\n",
      "| epoch 18 |  iter 1 / 10 | time 0[s] | loss 0.95\n",
      "| epoch 19 |  iter 1 / 10 | time 0[s] | loss 0.92\n",
      "| epoch 20 |  iter 1 / 10 | time 0[s] | loss 0.88\n",
      "| epoch 21 |  iter 1 / 10 | time 0[s] | loss 0.84\n",
      "| epoch 22 |  iter 1 / 10 | time 0[s] | loss 0.81\n",
      "| epoch 23 |  iter 1 / 10 | time 0[s] | loss 0.78\n",
      "| epoch 24 |  iter 1 / 10 | time 0[s] | loss 0.81\n",
      "| epoch 25 |  iter 1 / 10 | time 0[s] | loss 0.79\n",
      "| epoch 26 |  iter 1 / 10 | time 0[s] | loss 0.76\n",
      "| epoch 27 |  iter 1 / 10 | time 0[s] | loss 0.78\n",
      "| epoch 28 |  iter 1 / 10 | time 0[s] | loss 0.80\n",
      "| epoch 29 |  iter 1 / 10 | time 0[s] | loss 0.76\n",
      "| epoch 30 |  iter 1 / 10 | time 0[s] | loss 0.78\n",
      "| epoch 31 |  iter 1 / 10 | time 0[s] | loss 0.74\n",
      "| epoch 32 |  iter 1 / 10 | time 0[s] | loss 0.77\n",
      "| epoch 33 |  iter 1 / 10 | time 0[s] | loss 0.79\n",
      "| epoch 34 |  iter 1 / 10 | time 0[s] | loss 0.75\n",
      "| epoch 35 |  iter 1 / 10 | time 0[s] | loss 0.76\n",
      "| epoch 36 |  iter 1 / 10 | time 0[s] | loss 0.75\n",
      "| epoch 37 |  iter 1 / 10 | time 0[s] | loss 0.76\n",
      "| epoch 38 |  iter 1 / 10 | time 0[s] | loss 0.78\n",
      "| epoch 39 |  iter 1 / 10 | time 0[s] | loss 0.73\n",
      "| epoch 40 |  iter 1 / 10 | time 0[s] | loss 0.77\n",
      "| epoch 41 |  iter 1 / 10 | time 0[s] | loss 0.77\n",
      "| epoch 42 |  iter 1 / 10 | time 0[s] | loss 0.72\n",
      "| epoch 43 |  iter 1 / 10 | time 0[s] | loss 0.79\n",
      "| epoch 44 |  iter 1 / 10 | time 0[s] | loss 0.73\n",
      "| epoch 45 |  iter 1 / 10 | time 0[s] | loss 0.75\n",
      "| epoch 46 |  iter 1 / 10 | time 0[s] | loss 0.76\n",
      "| epoch 47 |  iter 1 / 10 | time 0[s] | loss 0.76\n",
      "| epoch 48 |  iter 1 / 10 | time 0[s] | loss 0.73\n",
      "| epoch 49 |  iter 1 / 10 | time 0[s] | loss 0.75\n",
      "| epoch 50 |  iter 1 / 10 | time 0[s] | loss 0.74\n",
      "| epoch 51 |  iter 1 / 10 | time 0[s] | loss 0.72\n",
      "| epoch 52 |  iter 1 / 10 | time 0[s] | loss 0.76\n",
      "| epoch 53 |  iter 1 / 10 | time 0[s] | loss 0.77\n",
      "| epoch 54 |  iter 1 / 10 | time 0[s] | loss 0.68\n",
      "| epoch 55 |  iter 1 / 10 | time 0[s] | loss 0.74\n",
      "| epoch 56 |  iter 1 / 10 | time 0[s] | loss 0.75\n",
      "| epoch 57 |  iter 1 / 10 | time 0[s] | loss 0.76\n",
      "| epoch 58 |  iter 1 / 10 | time 0[s] | loss 0.73\n",
      "| epoch 59 |  iter 1 / 10 | time 0[s] | loss 0.74\n",
      "| epoch 60 |  iter 1 / 10 | time 0[s] | loss 0.72\n",
      "| epoch 61 |  iter 1 / 10 | time 0[s] | loss 0.72\n",
      "| epoch 62 |  iter 1 / 10 | time 0[s] | loss 0.72\n",
      "| epoch 63 |  iter 1 / 10 | time 0[s] | loss 0.74\n",
      "| epoch 64 |  iter 1 / 10 | time 0[s] | loss 0.72\n",
      "| epoch 65 |  iter 1 / 10 | time 0[s] | loss 0.71\n",
      "| epoch 66 |  iter 1 / 10 | time 0[s] | loss 0.70\n",
      "| epoch 67 |  iter 1 / 10 | time 0[s] | loss 0.71\n",
      "| epoch 68 |  iter 1 / 10 | time 0[s] | loss 0.68\n",
      "| epoch 69 |  iter 1 / 10 | time 0[s] | loss 0.68\n",
      "| epoch 70 |  iter 1 / 10 | time 0[s] | loss 0.71\n",
      "| epoch 71 |  iter 1 / 10 | time 0[s] | loss 0.68\n",
      "| epoch 72 |  iter 1 / 10 | time 0[s] | loss 0.70\n",
      "| epoch 73 |  iter 1 / 10 | time 0[s] | loss 0.66\n",
      "| epoch 74 |  iter 1 / 10 | time 0[s] | loss 0.67\n",
      "| epoch 75 |  iter 1 / 10 | time 0[s] | loss 0.67\n",
      "| epoch 76 |  iter 1 / 10 | time 0[s] | loss 0.66\n",
      "| epoch 77 |  iter 1 / 10 | time 0[s] | loss 0.67\n",
      "| epoch 78 |  iter 1 / 10 | time 0[s] | loss 0.64\n",
      "| epoch 79 |  iter 1 / 10 | time 0[s] | loss 0.63\n",
      "| epoch 80 |  iter 1 / 10 | time 0[s] | loss 0.62\n",
      "| epoch 81 |  iter 1 / 10 | time 0[s] | loss 0.62\n",
      "| epoch 82 |  iter 1 / 10 | time 0[s] | loss 0.63\n",
      "| epoch 83 |  iter 1 / 10 | time 0[s] | loss 0.58\n",
      "| epoch 84 |  iter 1 / 10 | time 0[s] | loss 0.61\n",
      "| epoch 85 |  iter 1 / 10 | time 0[s] | loss 0.62\n",
      "| epoch 86 |  iter 1 / 10 | time 0[s] | loss 0.60\n",
      "| epoch 87 |  iter 1 / 10 | time 0[s] | loss 0.58\n",
      "| epoch 88 |  iter 1 / 10 | time 0[s] | loss 0.56\n",
      "| epoch 89 |  iter 1 / 10 | time 0[s] | loss 0.57\n",
      "| epoch 90 |  iter 1 / 10 | time 0[s] | loss 0.53\n",
      "| epoch 91 |  iter 1 / 10 | time 0[s] | loss 0.55\n",
      "| epoch 92 |  iter 1 / 10 | time 0[s] | loss 0.52\n",
      "| epoch 93 |  iter 1 / 10 | time 0[s] | loss 0.53\n",
      "| epoch 94 |  iter 1 / 10 | time 0[s] | loss 0.53\n",
      "| epoch 95 |  iter 1 / 10 | time 0[s] | loss 0.50\n",
      "| epoch 96 |  iter 1 / 10 | time 0[s] | loss 0.50\n",
      "| epoch 97 |  iter 1 / 10 | time 0[s] | loss 0.50\n",
      "| epoch 98 |  iter 1 / 10 | time 0[s] | loss 0.49\n",
      "| epoch 99 |  iter 1 / 10 | time 0[s] | loss 0.47\n",
      "| epoch 100 |  iter 1 / 10 | time 0[s] | loss 0.48\n",
      "| epoch 101 |  iter 1 / 10 | time 0[s] | loss 0.46\n",
      "| epoch 102 |  iter 1 / 10 | time 0[s] | loss 0.48\n",
      "| epoch 103 |  iter 1 / 10 | time 0[s] | loss 0.47\n",
      "| epoch 104 |  iter 1 / 10 | time 0[s] | loss 0.43\n",
      "| epoch 105 |  iter 1 / 10 | time 0[s] | loss 0.43\n",
      "| epoch 106 |  iter 1 / 10 | time 0[s] | loss 0.44\n",
      "| epoch 107 |  iter 1 / 10 | time 0[s] | loss 0.43\n",
      "| epoch 108 |  iter 1 / 10 | time 0[s] | loss 0.42\n",
      "| epoch 109 |  iter 1 / 10 | time 0[s] | loss 0.45\n",
      "| epoch 110 |  iter 1 / 10 | time 0[s] | loss 0.41\n",
      "| epoch 111 |  iter 1 / 10 | time 0[s] | loss 0.41\n",
      "| epoch 112 |  iter 1 / 10 | time 0[s] | loss 0.41\n",
      "| epoch 113 |  iter 1 / 10 | time 0[s] | loss 0.41\n",
      "| epoch 114 |  iter 1 / 10 | time 0[s] | loss 0.39\n",
      "| epoch 115 |  iter 1 / 10 | time 0[s] | loss 0.38\n",
      "| epoch 116 |  iter 1 / 10 | time 0[s] | loss 0.37\n",
      "| epoch 117 |  iter 1 / 10 | time 0[s] | loss 0.40\n",
      "| epoch 118 |  iter 1 / 10 | time 0[s] | loss 0.38\n",
      "| epoch 119 |  iter 1 / 10 | time 0[s] | loss 0.37\n",
      "| epoch 120 |  iter 1 / 10 | time 0[s] | loss 0.35\n",
      "| epoch 121 |  iter 1 / 10 | time 0[s] | loss 0.37\n",
      "| epoch 122 |  iter 1 / 10 | time 0[s] | loss 0.35\n",
      "| epoch 123 |  iter 1 / 10 | time 0[s] | loss 0.36\n",
      "| epoch 124 |  iter 1 / 10 | time 0[s] | loss 0.34\n",
      "| epoch 125 |  iter 1 / 10 | time 0[s] | loss 0.35\n",
      "| epoch 126 |  iter 1 / 10 | time 0[s] | loss 0.35\n",
      "| epoch 127 |  iter 1 / 10 | time 0[s] | loss 0.33\n",
      "| epoch 128 |  iter 1 / 10 | time 0[s] | loss 0.36\n",
      "| epoch 129 |  iter 1 / 10 | time 0[s] | loss 0.35\n",
      "| epoch 130 |  iter 1 / 10 | time 0[s] | loss 0.33\n",
      "| epoch 131 |  iter 1 / 10 | time 0[s] | loss 0.37\n",
      "| epoch 132 |  iter 1 / 10 | time 0[s] | loss 0.30\n",
      "| epoch 133 |  iter 1 / 10 | time 0[s] | loss 0.34\n",
      "| epoch 134 |  iter 1 / 10 | time 0[s] | loss 0.32\n",
      "| epoch 135 |  iter 1 / 10 | time 0[s] | loss 0.30\n",
      "| epoch 136 |  iter 1 / 10 | time 0[s] | loss 0.31\n",
      "| epoch 137 |  iter 1 / 10 | time 0[s] | loss 0.30\n",
      "| epoch 138 |  iter 1 / 10 | time 0[s] | loss 0.31\n",
      "| epoch 139 |  iter 1 / 10 | time 0[s] | loss 0.31\n",
      "| epoch 140 |  iter 1 / 10 | time 0[s] | loss 0.31\n",
      "| epoch 141 |  iter 1 / 10 | time 0[s] | loss 0.30\n",
      "| epoch 142 |  iter 1 / 10 | time 0[s] | loss 0.30\n",
      "| epoch 143 |  iter 1 / 10 | time 0[s] | loss 0.31\n",
      "| epoch 144 |  iter 1 / 10 | time 0[s] | loss 0.27\n",
      "| epoch 145 |  iter 1 / 10 | time 0[s] | loss 0.29\n",
      "| epoch 146 |  iter 1 / 10 | time 0[s] | loss 0.30\n",
      "| epoch 147 |  iter 1 / 10 | time 0[s] | loss 0.28\n",
      "| epoch 148 |  iter 1 / 10 | time 0[s] | loss 0.28\n",
      "| epoch 149 |  iter 1 / 10 | time 0[s] | loss 0.29\n",
      "| epoch 150 |  iter 1 / 10 | time 0[s] | loss 0.26\n",
      "| epoch 151 |  iter 1 / 10 | time 0[s] | loss 0.28\n",
      "| epoch 152 |  iter 1 / 10 | time 0[s] | loss 0.26\n",
      "| epoch 153 |  iter 1 / 10 | time 0[s] | loss 0.30\n",
      "| epoch 154 |  iter 1 / 10 | time 0[s] | loss 0.27\n",
      "| epoch 155 |  iter 1 / 10 | time 0[s] | loss 0.27\n",
      "| epoch 156 |  iter 1 / 10 | time 0[s] | loss 0.26\n",
      "| epoch 157 |  iter 1 / 10 | time 0[s] | loss 0.25\n",
      "| epoch 158 |  iter 1 / 10 | time 0[s] | loss 0.27\n",
      "| epoch 159 |  iter 1 / 10 | time 0[s] | loss 0.25\n",
      "| epoch 160 |  iter 1 / 10 | time 0[s] | loss 0.24\n",
      "| epoch 161 |  iter 1 / 10 | time 0[s] | loss 0.27\n",
      "| epoch 162 |  iter 1 / 10 | time 0[s] | loss 0.24\n",
      "| epoch 163 |  iter 1 / 10 | time 0[s] | loss 0.25\n",
      "| epoch 164 |  iter 1 / 10 | time 0[s] | loss 0.24\n",
      "| epoch 165 |  iter 1 / 10 | time 0[s] | loss 0.25\n",
      "| epoch 166 |  iter 1 / 10 | time 0[s] | loss 0.26\n",
      "| epoch 167 |  iter 1 / 10 | time 0[s] | loss 0.23\n",
      "| epoch 168 |  iter 1 / 10 | time 0[s] | loss 0.25\n",
      "| epoch 169 |  iter 1 / 10 | time 0[s] | loss 0.24\n",
      "| epoch 170 |  iter 1 / 10 | time 0[s] | loss 0.22\n",
      "| epoch 171 |  iter 1 / 10 | time 0[s] | loss 0.23\n",
      "| epoch 172 |  iter 1 / 10 | time 0[s] | loss 0.25\n",
      "| epoch 173 |  iter 1 / 10 | time 0[s] | loss 0.23\n",
      "| epoch 174 |  iter 1 / 10 | time 0[s] | loss 0.23\n",
      "| epoch 175 |  iter 1 / 10 | time 0[s] | loss 0.22\n",
      "| epoch 176 |  iter 1 / 10 | time 0[s] | loss 0.23\n",
      "| epoch 177 |  iter 1 / 10 | time 0[s] | loss 0.22\n",
      "| epoch 178 |  iter 1 / 10 | time 0[s] | loss 0.22\n",
      "| epoch 179 |  iter 1 / 10 | time 0[s] | loss 0.23\n",
      "| epoch 180 |  iter 1 / 10 | time 0[s] | loss 0.22\n",
      "| epoch 181 |  iter 1 / 10 | time 0[s] | loss 0.23\n",
      "| epoch 182 |  iter 1 / 10 | time 0[s] | loss 0.22\n",
      "| epoch 183 |  iter 1 / 10 | time 0[s] | loss 0.19\n",
      "| epoch 184 |  iter 1 / 10 | time 0[s] | loss 0.23\n",
      "| epoch 185 |  iter 1 / 10 | time 0[s] | loss 0.21\n",
      "| epoch 186 |  iter 1 / 10 | time 0[s] | loss 0.21\n",
      "| epoch 187 |  iter 1 / 10 | time 0[s] | loss 0.22\n",
      "| epoch 188 |  iter 1 / 10 | time 0[s] | loss 0.22\n",
      "| epoch 189 |  iter 1 / 10 | time 0[s] | loss 0.22\n",
      "| epoch 190 |  iter 1 / 10 | time 0[s] | loss 0.21\n",
      "| epoch 191 |  iter 1 / 10 | time 0[s] | loss 0.22\n",
      "| epoch 192 |  iter 1 / 10 | time 0[s] | loss 0.22\n",
      "| epoch 193 |  iter 1 / 10 | time 0[s] | loss 0.19\n",
      "| epoch 194 |  iter 1 / 10 | time 0[s] | loss 0.21\n",
      "| epoch 195 |  iter 1 / 10 | time 0[s] | loss 0.20\n",
      "| epoch 196 |  iter 1 / 10 | time 0[s] | loss 0.22\n",
      "| epoch 197 |  iter 1 / 10 | time 0[s] | loss 0.19\n",
      "| epoch 198 |  iter 1 / 10 | time 0[s] | loss 0.20\n",
      "| epoch 199 |  iter 1 / 10 | time 0[s] | loss 0.20\n",
      "| epoch 200 |  iter 1 / 10 | time 0[s] | loss 0.21\n",
      "| epoch 201 |  iter 1 / 10 | time 0[s] | loss 0.19\n",
      "| epoch 202 |  iter 1 / 10 | time 0[s] | loss 0.20\n",
      "| epoch 203 |  iter 1 / 10 | time 0[s] | loss 0.20\n",
      "| epoch 204 |  iter 1 / 10 | time 0[s] | loss 0.18\n",
      "| epoch 205 |  iter 1 / 10 | time 0[s] | loss 0.21\n",
      "| epoch 206 |  iter 1 / 10 | time 0[s] | loss 0.18\n",
      "| epoch 207 |  iter 1 / 10 | time 0[s] | loss 0.20\n",
      "| epoch 208 |  iter 1 / 10 | time 0[s] | loss 0.19\n",
      "| epoch 209 |  iter 1 / 10 | time 0[s] | loss 0.19\n",
      "| epoch 210 |  iter 1 / 10 | time 0[s] | loss 0.20\n",
      "| epoch 211 |  iter 1 / 10 | time 0[s] | loss 0.19\n",
      "| epoch 212 |  iter 1 / 10 | time 0[s] | loss 0.19\n",
      "| epoch 213 |  iter 1 / 10 | time 0[s] | loss 0.20\n",
      "| epoch 214 |  iter 1 / 10 | time 0[s] | loss 0.19\n",
      "| epoch 215 |  iter 1 / 10 | time 0[s] | loss 0.18\n",
      "| epoch 216 |  iter 1 / 10 | time 0[s] | loss 0.18\n",
      "| epoch 217 |  iter 1 / 10 | time 0[s] | loss 0.17\n",
      "| epoch 218 |  iter 1 / 10 | time 0[s] | loss 0.19\n",
      "| epoch 219 |  iter 1 / 10 | time 0[s] | loss 0.18\n",
      "| epoch 220 |  iter 1 / 10 | time 0[s] | loss 0.17\n",
      "| epoch 221 |  iter 1 / 10 | time 0[s] | loss 0.18\n",
      "| epoch 222 |  iter 1 / 10 | time 0[s] | loss 0.21\n",
      "| epoch 223 |  iter 1 / 10 | time 0[s] | loss 0.16\n",
      "| epoch 224 |  iter 1 / 10 | time 0[s] | loss 0.17\n",
      "| epoch 225 |  iter 1 / 10 | time 0[s] | loss 0.16\n",
      "| epoch 226 |  iter 1 / 10 | time 0[s] | loss 0.17\n",
      "| epoch 227 |  iter 1 / 10 | time 0[s] | loss 0.18\n",
      "| epoch 228 |  iter 1 / 10 | time 0[s] | loss 0.17\n",
      "| epoch 229 |  iter 1 / 10 | time 0[s] | loss 0.18\n",
      "| epoch 230 |  iter 1 / 10 | time 0[s] | loss 0.18\n",
      "| epoch 231 |  iter 1 / 10 | time 0[s] | loss 0.17\n",
      "| epoch 232 |  iter 1 / 10 | time 0[s] | loss 0.18\n",
      "| epoch 233 |  iter 1 / 10 | time 0[s] | loss 0.16\n",
      "| epoch 234 |  iter 1 / 10 | time 0[s] | loss 0.19\n",
      "| epoch 235 |  iter 1 / 10 | time 0[s] | loss 0.17\n",
      "| epoch 236 |  iter 1 / 10 | time 0[s] | loss 0.17\n",
      "| epoch 237 |  iter 1 / 10 | time 0[s] | loss 0.16\n",
      "| epoch 238 |  iter 1 / 10 | time 0[s] | loss 0.16\n",
      "| epoch 239 |  iter 1 / 10 | time 0[s] | loss 0.16\n",
      "| epoch 240 |  iter 1 / 10 | time 0[s] | loss 0.16\n",
      "| epoch 241 |  iter 1 / 10 | time 0[s] | loss 0.17\n",
      "| epoch 242 |  iter 1 / 10 | time 0[s] | loss 0.17\n",
      "| epoch 243 |  iter 1 / 10 | time 0[s] | loss 0.16\n",
      "| epoch 244 |  iter 1 / 10 | time 0[s] | loss 0.17\n",
      "| epoch 245 |  iter 1 / 10 | time 0[s] | loss 0.16\n",
      "| epoch 246 |  iter 1 / 10 | time 0[s] | loss 0.16\n",
      "| epoch 247 |  iter 1 / 10 | time 0[s] | loss 0.17\n",
      "| epoch 248 |  iter 1 / 10 | time 0[s] | loss 0.15\n",
      "| epoch 249 |  iter 1 / 10 | time 0[s] | loss 0.17\n",
      "| epoch 250 |  iter 1 / 10 | time 0[s] | loss 0.18\n",
      "| epoch 251 |  iter 1 / 10 | time 0[s] | loss 0.17\n",
      "| epoch 252 |  iter 1 / 10 | time 0[s] | loss 0.14\n",
      "| epoch 253 |  iter 1 / 10 | time 0[s] | loss 0.16\n",
      "| epoch 254 |  iter 1 / 10 | time 0[s] | loss 0.17\n",
      "| epoch 255 |  iter 1 / 10 | time 0[s] | loss 0.17\n",
      "| epoch 256 |  iter 1 / 10 | time 0[s] | loss 0.18\n",
      "| epoch 257 |  iter 1 / 10 | time 0[s] | loss 0.15\n",
      "| epoch 258 |  iter 1 / 10 | time 0[s] | loss 0.16\n",
      "| epoch 259 |  iter 1 / 10 | time 0[s] | loss 0.17\n",
      "| epoch 260 |  iter 1 / 10 | time 0[s] | loss 0.16\n",
      "| epoch 261 |  iter 1 / 10 | time 0[s] | loss 0.14\n",
      "| epoch 262 |  iter 1 / 10 | time 0[s] | loss 0.16\n",
      "| epoch 263 |  iter 1 / 10 | time 0[s] | loss 0.15\n",
      "| epoch 264 |  iter 1 / 10 | time 0[s] | loss 0.14\n",
      "| epoch 265 |  iter 1 / 10 | time 0[s] | loss 0.16\n",
      "| epoch 266 |  iter 1 / 10 | time 0[s] | loss 0.16\n",
      "| epoch 267 |  iter 1 / 10 | time 0[s] | loss 0.16\n",
      "| epoch 268 |  iter 1 / 10 | time 0[s] | loss 0.14\n",
      "| epoch 269 |  iter 1 / 10 | time 0[s] | loss 0.14\n",
      "| epoch 270 |  iter 1 / 10 | time 0[s] | loss 0.15\n",
      "| epoch 271 |  iter 1 / 10 | time 0[s] | loss 0.15\n",
      "| epoch 272 |  iter 1 / 10 | time 0[s] | loss 0.16\n",
      "| epoch 273 |  iter 1 / 10 | time 0[s] | loss 0.14\n",
      "| epoch 274 |  iter 1 / 10 | time 0[s] | loss 0.15\n",
      "| epoch 275 |  iter 1 / 10 | time 0[s] | loss 0.15\n",
      "| epoch 276 |  iter 1 / 10 | time 0[s] | loss 0.14\n",
      "| epoch 277 |  iter 1 / 10 | time 0[s] | loss 0.15\n",
      "| epoch 278 |  iter 1 / 10 | time 0[s] | loss 0.15\n",
      "| epoch 279 |  iter 1 / 10 | time 0[s] | loss 0.15\n",
      "| epoch 280 |  iter 1 / 10 | time 0[s] | loss 0.14\n",
      "| epoch 281 |  iter 1 / 10 | time 1[s] | loss 0.15\n",
      "| epoch 282 |  iter 1 / 10 | time 1[s] | loss 0.14\n",
      "| epoch 283 |  iter 1 / 10 | time 1[s] | loss 0.13\n",
      "| epoch 284 |  iter 1 / 10 | time 1[s] | loss 0.14\n",
      "| epoch 285 |  iter 1 / 10 | time 1[s] | loss 0.14\n",
      "| epoch 286 |  iter 1 / 10 | time 1[s] | loss 0.15\n",
      "| epoch 287 |  iter 1 / 10 | time 1[s] | loss 0.13\n",
      "| epoch 288 |  iter 1 / 10 | time 1[s] | loss 0.15\n",
      "| epoch 289 |  iter 1 / 10 | time 1[s] | loss 0.14\n",
      "| epoch 290 |  iter 1 / 10 | time 1[s] | loss 0.14\n",
      "| epoch 291 |  iter 1 / 10 | time 1[s] | loss 0.14\n",
      "| epoch 292 |  iter 1 / 10 | time 1[s] | loss 0.14\n",
      "| epoch 293 |  iter 1 / 10 | time 1[s] | loss 0.15\n",
      "| epoch 294 |  iter 1 / 10 | time 1[s] | loss 0.12\n",
      "| epoch 295 |  iter 1 / 10 | time 1[s] | loss 0.15\n",
      "| epoch 296 |  iter 1 / 10 | time 1[s] | loss 0.14\n",
      "| epoch 297 |  iter 1 / 10 | time 1[s] | loss 0.15\n",
      "| epoch 298 |  iter 1 / 10 | time 1[s] | loss 0.13\n",
      "| epoch 299 |  iter 1 / 10 | time 1[s] | loss 0.14\n",
      "| epoch 300 |  iter 1 / 10 | time 1[s] | loss 0.13\n"
     ]
    },
    {
     "data": {
      "image/png": "[encoded data removed]",
      "text/plain": [
       "<matplotlib.figure.Figure at 0x1dcd4fd2630>"
      ]
     },
     "metadata": {},
     "output_type": "display_data"
    }
   ],
   "source": [
    "trainer = Trainer(model=model, optimizer=optimizer)\n",
    "trainer.fit(x, t, max_epoch, batch_size, eval_interval=10)\n",
    "trainer.plot()"
   ]
  },
  {
   "cell_type": "code",
   "execution_count": null,
   "metadata": {
    "collapsed": true
   },
   "outputs": [],
   "source": []
  }
 ],
 "metadata": {
  "anaconda-cloud": {},
  "kernelspec": {
   "display_name": "Python [default]",
   "language": "python",
   "name": "python3"
  },
  "language_info": {
   "codemirror_mode": {
    "name": "ipython",
    "version": 3
   },
   "file_extension": ".py",
   "mimetype": "text/x-python",
   "name": "python",
   "nbconvert_exporter": "python",
   "pygments_lexer": "ipython3",
   "version": "3.5.4"
  }
 },
 "nbformat": 4,
 "nbformat_minor": 1
}
