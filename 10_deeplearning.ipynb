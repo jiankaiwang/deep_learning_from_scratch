{
 "cells": [
  {
   "cell_type": "markdown",
   "metadata": {},
   "source": [
    "# More Layers"
   ]
  },
  {
   "cell_type": "markdown",
   "metadata": {},
   "source": [
    "* (1 layer with 5 x 5 kernel) < (2 layers 3 x 3 layers)\n",
    "* more layer -> recognize more components"
   ]
  },
  {
   "cell_type": "markdown",
   "metadata": {},
   "source": [
    "# Data Augmentation"
   ]
  },
  {
   "cell_type": "markdown",
   "metadata": {},
   "source": [
    "* Rotation\n",
    "* Vertical Shift\n",
    "* Horizontal Shift\n",
    "* Random Crop\n",
    "* Left Flip\n",
    "* Right Flip\n",
    "* Bright\n",
    "* Scaled"
   ]
  },
  {
   "cell_type": "markdown",
   "metadata": {},
   "source": [
    "# History of Deep Learning "
   ]
  },
  {
   "cell_type": "markdown",
   "metadata": {},
   "source": [
    "* ILSVRC / ImageNet\n",
    "* VGG\n",
    "* GoogLeNet\n",
    "* ResNet\n",
    "* Fine Tuning"
   ]
  },
  {
   "cell_type": "markdown",
   "metadata": {},
   "source": [
    "# Speeding Up"
   ]
  },
  {
   "cell_type": "markdown",
   "metadata": {},
   "source": [
    "* CPU vs. GPU\n",
    "* Convolutional Layre cost more time\n",
    "* Distributed Learning\n",
    "* Shorten the bit percision"
   ]
  },
  {
   "cell_type": "markdown",
   "metadata": {},
   "source": [
    "# Deep Learning Applications"
   ]
  },
  {
   "cell_type": "markdown",
   "metadata": {},
   "source": [
    "* Object Detection\n",
    "    * R-CNN\n",
    "    * Fast R-CNN\n",
    "    * Faster R-CNN\n",
    "* Image Segementation\n",
    "    * Fully Convolutional Network (deconvolution)\n",
    "* Image Caption\n",
    "    * Neural Image Caption\n",
    "* Artistic Style\n",
    "* Generating Images\n",
    "    * Deep Convolutional Generative Adversarial Network (DCGAN)\n",
    "* Auto-Driving\n",
    "    * SegNet\n",
    "* Reinforcement Learning\n",
    "    * Deep Q-Network"
   ]
  },
  {
   "cell_type": "code",
   "execution_count": null,
   "metadata": {},
   "outputs": [],
   "source": []
  }
 ],
 "metadata": {
  "kernelspec": {
   "display_name": "Python 3",
   "language": "python",
   "name": "python3"
  },
  "language_info": {
   "codemirror_mode": {
    "name": "ipython",
    "version": 3
   },
   "file_extension": ".py",
   "mimetype": "text/x-python",
   "name": "python",
   "nbconvert_exporter": "python",
   "pygments_lexer": "ipython3",
   "version": "3.6.5"
  }
 },
 "nbformat": 4,
 "nbformat_minor": 2
}
