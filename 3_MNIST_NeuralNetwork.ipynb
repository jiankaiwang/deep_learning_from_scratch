{
 "cells": [
  {
   "cell_type": "code",
   "execution_count": 1,
   "metadata": {
    "collapsed": true
   },
   "outputs": [],
   "source": [
    "import numpy as np\n",
    "import pickle\n",
    "from dataset.mnist import load_mnist\n",
    "from PIL import Image"
   ]
  },
  {
   "cell_type": "code",
   "execution_count": 3,
   "metadata": {
    "collapsed": true
   },
   "outputs": [],
   "source": [
    "def img_show(x):\n",
    "    pil_img = Image.fromarray(np.uint8(x))\n",
    "    pil_img.show()"
   ]
  },
  {
   "cell_type": "code",
   "execution_count": 4,
   "metadata": {
    "collapsed": true
   },
   "outputs": [],
   "source": [
    "train = None\n",
    "train_label = None\n",
    "testing = None\n",
    "testing_label = None"
   ]
  },
  {
   "cell_type": "code",
   "execution_count": 5,
   "metadata": {
    "collapsed": true
   },
   "outputs": [],
   "source": [
    "def sigmoid(x):\n",
    "    return 1 / (1 + np.exp(x))"
   ]
  },
  {
   "cell_type": "code",
   "execution_count": 6,
   "metadata": {
    "collapsed": true
   },
   "outputs": [],
   "source": [
    "def softmax(x):\n",
    "    cons_c = np.max(x)\n",
    "    exp_x = np.exp(x - cons_c)\n",
    "    sum_exp_x = np.sum(exp_x)\n",
    "    return exp_x / sum_exp_x"
   ]
  },
  {
   "cell_type": "code",
   "execution_count": 7,
   "metadata": {
    "collapsed": true
   },
   "outputs": [],
   "source": [
    "def get_data():\n",
    "    global train, train_label, testing, testing_label\n",
    "    (train, train_label), (testing, testing_label) = load_mnist(flatten=True, normalize=False)\n",
    "    print(train.shape)\n",
    "    print(train_label.shape)\n",
    "    print(testing.shape)\n",
    "    print(testing_label.shape)"
   ]
  },
  {
   "cell_type": "code",
   "execution_count": 8,
   "metadata": {
    "collapsed": true
   },
   "outputs": [],
   "source": [
    "def init_network():\n",
    "    with open(\"dataset/ch3_forward_sample_weight.pkl\", \"rb\") as fin:\n",
    "        parameters = pickle.load(fin)\n",
    "    return parameters"
   ]
  },
  {
   "cell_type": "code",
   "execution_count": 9,
   "metadata": {
    "collapsed": true
   },
   "outputs": [],
   "source": [
    "def forward_predict(parameters, x):\n",
    "    W1, W2, W3 = parameters[\"W1\"], parameters[\"W2\"], parameters[\"W3\"]\n",
    "    b1, b2, b3 = parameters[\"b1\"], parameters[\"b2\"], parameters[\"b3\"]\n",
    "\n",
    "    A1 = np.dot(x, W1) + b1\n",
    "    Z1 = sigmoid(A1)\n",
    "    A2 = np.dot(Z1, W2) + b2\n",
    "    Z2 = sigmoid(A2)\n",
    "    A3 = np.dot(Z2, W3) + b3\n",
    "    y = softmax(A3)\n",
    "    \n",
    "    return y"
   ]
  },
  {
   "cell_type": "code",
   "execution_count": 10,
   "metadata": {
    "collapsed": true
   },
   "outputs": [],
   "source": [
    "def show_example_data(index):\n",
    "    img = train[index]\n",
    "    print(img.shape)\n",
    "    print(\"label: \" + str(train_label[index]))\n",
    "    \n",
    "    img = img.reshape(28,28)\n",
    "    print(img.shape)\n",
    "    \n",
    "    img_show(img)"
   ]
  },
  {
   "cell_type": "code",
   "execution_count": 11,
   "metadata": {
    "collapsed": true
   },
   "outputs": [],
   "source": [
    "def show_testing_data(index):\n",
    "    img = testing[index]\n",
    "    print(img.shape)\n",
    "    print(\"label: \" + str(testing_label[index]))\n",
    "    \n",
    "    img = img.reshape(28,28)\n",
    "    print(img.shape)\n",
    "    \n",
    "    img_show(img)"
   ]
  },
  {
   "cell_type": "code",
   "execution_count": 12,
   "metadata": {},
   "outputs": [
    {
     "name": "stdout",
     "output_type": "stream",
     "text": [
      "(60000, 784)\n",
      "(60000,)\n",
      "(10000, 784)\n",
      "(10000,)\n",
      "Accuracy: 0.8399 %\n"
     ]
    },
    {
     "name": "stderr",
     "output_type": "stream",
     "text": [
      "C:\\Program Files\\Anaconda3\\lib\\site-packages\\ipykernel\\__main__.py:2: RuntimeWarning: overflow encountered in exp\n",
      "  from ipykernel import kernelapp as app\n"
     ]
    }
   ],
   "source": [
    "get_data()\n",
    "#show_example_data(0)\n",
    "\n",
    "acc_cnt = 0\n",
    "para = init_network()\n",
    "\n",
    "#    ## original    \n",
    "#    for i in range(0, len(testing_label), 1):\n",
    "#        testing_res = np.argmax(forward_predict(para, testing[i]))\n",
    "#        if testing_res == testing_label[i]:\n",
    "#            acc_cnt = acc_cnt + 1\n",
    "#        else:\n",
    "#            print(str(i) + \" is different: \" + str(testing_res) + \" and \" + str(testing_label[i])) \n",
    "\n",
    "## batch\n",
    "batch_size = 100\n",
    "for i in range(0, len(testing_label), batch_size):\n",
    "    batch_input = testing[i:i+batch_size]\n",
    "    batch_res = forward_predict(para, batch_input)\n",
    "    p = np.argmax(batch_res, axis=1)\n",
    "    acc_cnt += np.sum(p == testing_label[i:i+batch_size])\n",
    "\n",
    "print(\"Accuracy: \" + str(acc_cnt / len(testing_label)) + \" %\")"
   ]
  },
  {
   "cell_type": "code",
   "execution_count": null,
   "metadata": {
    "collapsed": true
   },
   "outputs": [],
   "source": []
  }
 ],
 "metadata": {
  "kernelspec": {
   "display_name": "Python 3",
   "language": "python",
   "name": "python3"
  },
  "language_info": {
   "codemirror_mode": {
    "name": "ipython",
    "version": 3
   },
   "file_extension": ".py",
   "mimetype": "text/x-python",
   "name": "python",
   "nbconvert_exporter": "python",
   "pygments_lexer": "ipython3",
   "version": "3.6.5"
  }
 },
 "nbformat": 4,
 "nbformat_minor": 1
}
