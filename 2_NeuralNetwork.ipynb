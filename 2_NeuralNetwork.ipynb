{
 "cells": [
  {
   "cell_type": "markdown",
   "metadata": {},
   "source": [
    "## activation function"
   ]
  },
  {
   "cell_type": "code",
   "execution_count": 1,
   "metadata": {
    "collapsed": true
   },
   "outputs": [],
   "source": [
    "import numpy as np\n",
    "import matplotlib.pyplot as plt"
   ]
  },
  {
   "cell_type": "code",
   "execution_count": 2,
   "metadata": {
    "collapsed": true
   },
   "outputs": [],
   "source": [
    "def step_function_2(x):\n",
    "    y = x > 0  # broadcast\n",
    "    return y.astype(np.int)"
   ]
  },
  {
   "cell_type": "code",
   "execution_count": 3,
   "metadata": {},
   "outputs": [
    {
     "name": "stdout",
     "output_type": "stream",
     "text": [
      "[0 1 1]\n"
     ]
    }
   ],
   "source": [
    "print(step_function_2(np.array([-1.,2.,3.])))"
   ]
  },
  {
   "cell_type": "code",
   "execution_count": 4,
   "metadata": {
    "collapsed": true
   },
   "outputs": [],
   "source": [
    "def step_function(x):\n",
    "    return np.array(x > 0, dtype = np.int)"
   ]
  },
  {
   "cell_type": "code",
   "execution_count": 5,
   "metadata": {
    "collapsed": true
   },
   "outputs": [],
   "source": [
    "def sigmoid(x):\n",
    "    return 1 / (1 + np.exp(-x))"
   ]
  },
  {
   "cell_type": "code",
   "execution_count": 6,
   "metadata": {
    "collapsed": true
   },
   "outputs": [],
   "source": [
    "def tanh(x):\n",
    "    return (1 - np.exp(-x)) / (1 + np.exp(-x))"
   ]
  },
  {
   "cell_type": "code",
   "execution_count": 7,
   "metadata": {
    "collapsed": true
   },
   "outputs": [],
   "source": [
    "def relu(x):\n",
    "    return np.maximum(0, x)"
   ]
  },
  {
   "cell_type": "code",
   "execution_count": 8,
   "metadata": {
    "collapsed": true
   },
   "outputs": [],
   "source": [
    "def softplus(x):\n",
    "    return np.log(1 + np.exp(x))"
   ]
  },
  {
   "cell_type": "code",
   "execution_count": 9,
   "metadata": {
    "collapsed": true
   },
   "outputs": [],
   "source": [
    "def identify_function(x):\n",
    "    return x"
   ]
  },
  {
   "cell_type": "code",
   "execution_count": 10,
   "metadata": {
    "collapsed": true
   },
   "outputs": [],
   "source": [
    "def softmax(x):\n",
    "    cons_c = np.max(x)\n",
    "    exp_x = np.exp(x - cons_c)  # prevent overflow\n",
    "    sum_exp_x = np.sum(exp_x)\n",
    "    return exp_x / sum_exp_x"
   ]
  },
  {
   "cell_type": "code",
   "execution_count": 11,
   "metadata": {
    "collapsed": true
   },
   "outputs": [],
   "source": [
    "x = np.arange(-10,10,0.1)\n",
    "y = step_function(x)\n",
    "y1 = sigmoid(x)\n",
    "y2 = tanh(x)\n",
    "y3 = relu(x)\n",
    "y4 = softplus(x)"
   ]
  },
  {
   "cell_type": "code",
   "execution_count": 12,
   "metadata": {
    "collapsed": true
   },
   "outputs": [],
   "source": [
    "fig, (ax1, ax2) = plt.subplots(1, 2)\n",
    "fig.set_figheight(5)\n",
    "fig.set_figwidth(15)\n",
    "fig.subplots_adjust(left=0.2, wspace=0.6)"
   ]
  },
  {
   "cell_type": "code",
   "execution_count": 13,
   "metadata": {},
   "outputs": [
    {
     "data": {
      "text/plain": [
       "<matplotlib.legend.Legend at 0x1fc8f7a8a58>"
      ]
     },
     "execution_count": 13,
     "metadata": {},
     "output_type": "execute_result"
    }
   ],
   "source": [
    "ax1.plot(x, y, linestyle=\"--\", label=\"step\")\n",
    "ax1.plot(x, y1, label=\"sigmoid\", linewidth=2, color=\"red\")\n",
    "ax1.plot(x, y2, label=\"tanh\", linewidth=2, color=\"green\")\n",
    "ax1.set_ylim(-1.1,1.1)\n",
    "ax1.legend(loc=4)"
   ]
  },
  {
   "cell_type": "code",
   "execution_count": 14,
   "metadata": {},
   "outputs": [
    {
     "data": {
      "text/plain": [
       "<matplotlib.legend.Legend at 0x1fc8f796dd8>"
      ]
     },
     "execution_count": 14,
     "metadata": {},
     "output_type": "execute_result"
    }
   ],
   "source": [
    "ax2.plot(x, y3, label=\"relu\", color=\"red\", linewidth=1)\n",
    "ax2.plot(x, y4, label=\"softplus\", color=\"green\", linewidth=3, linestyle=\"--\")\n",
    "ax2.set_ylim(-1,12)\n",
    "ax2.legend(loc=4)"
   ]
  },
  {
   "cell_type": "code",
   "execution_count": 15,
   "metadata": {},
   "outputs": [
    {
     "data": {
      "image/png": "[encoded data removed]",
      "text/plain": [
       "<matplotlib.figure.Figure at 0x1fc8d712048>"
      ]
     },
     "metadata": {},
     "output_type": "display_data"
    }
   ],
   "source": [
    "plt.show()"
   ]
  },
  {
   "cell_type": "markdown",
   "metadata": {},
   "source": [
    "## multidimension in numpy"
   ]
  },
  {
   "cell_type": "code",
   "execution_count": 16,
   "metadata": {},
   "outputs": [
    {
     "name": "stdout",
     "output_type": "stream",
     "text": [
      "[1. 2. 3. 4.]\n",
      "1\n",
      "(4,)\n",
      "4\n",
      "\n"
     ]
    }
   ],
   "source": [
    "d1 = np.array([1.,2.,3.,4.])\n",
    "print(d1)\n",
    "print(np.ndim(d1))\n",
    "print(d1.shape)\n",
    "print(d1.shape[0])\n",
    "print()"
   ]
  },
  {
   "cell_type": "code",
   "execution_count": 17,
   "metadata": {},
   "outputs": [
    {
     "name": "stdout",
     "output_type": "stream",
     "text": [
      "[[1 2]\n",
      " [3 4]\n",
      " [5 6]]\n",
      "2\n",
      "(3, 2)\n",
      "\n"
     ]
    }
   ],
   "source": [
    "d2 = np.array([[1,2], [3,4], [5,6]])\n",
    "print(d2)\n",
    "print(np.ndim(d2))\n",
    "print(d2.shape)\n",
    "print()"
   ]
  },
  {
   "cell_type": "code",
   "execution_count": 18,
   "metadata": {},
   "outputs": [
    {
     "name": "stdout",
     "output_type": "stream",
     "text": [
      "[[1 2]\n",
      " [3 4]]\n",
      "[[5 6]\n",
      " [7 8]]\n",
      "[[19 22]\n",
      " [43 50]]\n",
      "[[ 5 12]\n",
      " [21 32]]\n",
      "\n"
     ]
    }
   ],
   "source": [
    "# dot product\n",
    "d3 = np.array([[1,2],[3,4]])\n",
    "d4 = np.array([[5,6],[7,8]])\n",
    "print(d3)\n",
    "print(d4)\n",
    "print(np.dot(d3, d4))\n",
    "print(d3 * d4)\n",
    "print()"
   ]
  },
  {
   "cell_type": "code",
   "execution_count": 19,
   "metadata": {},
   "outputs": [
    {
     "name": "stdout",
     "output_type": "stream",
     "text": [
      "[[1 2 3]\n",
      " [4 5 6]]\n",
      "[[1 2]\n",
      " [3 4]\n",
      " [5 6]]\n",
      "[[22 28]\n",
      " [49 64]]\n",
      "\n"
     ]
    }
   ],
   "source": [
    "d5 = np.array([[1,2,3], [4,5,6]])    # 2 x 3\n",
    "d6 = np.array([[1,2], [3,4], [5,6]])    # 3 x 2\n",
    "print(d5)\n",
    "print(d6)\n",
    "print(np.dot(d5, d6))\n",
    "print()"
   ]
  },
  {
   "cell_type": "code",
   "execution_count": 20,
   "metadata": {},
   "outputs": [
    {
     "name": "stdout",
     "output_type": "stream",
     "text": [
      "[2 2]\n",
      "(2,)\n",
      "[10 14 18]\n",
      "\n"
     ]
    }
   ],
   "source": [
    "d7 = np.array([2,2])\n",
    "print(d7)\n",
    "print(d7.shape)\n",
    "print(np.dot(d7, d5))\n",
    "print()"
   ]
  },
  {
   "cell_type": "code",
   "execution_count": 21,
   "metadata": {},
   "outputs": [
    {
     "name": "stdout",
     "output_type": "stream",
     "text": [
      "[[2]\n",
      " [2]\n",
      " [2]]\n",
      "(3, 1)\n",
      "(2, 1)\n",
      "[12 30]\n",
      "\n"
     ]
    }
   ],
   "source": [
    "d8 = np.array([[2],[2],[2]])\n",
    "print(d8)\n",
    "print(d8.shape)\n",
    "print(np.dot(d5, d8).shape)\n",
    "print(np.dot(d5, d8).flatten())\n",
    "print()"
   ]
  },
  {
   "cell_type": "markdown",
   "metadata": {},
   "source": [
    "## NN"
   ]
  },
  {
   "cell_type": "code",
   "execution_count": 22,
   "metadata": {},
   "outputs": [
    {
     "name": "stdout",
     "output_type": "stream",
     "text": [
      "[[1 3 5]\n",
      " [2 4 6]]\n",
      "(2, 3)\n",
      "[1 1]\n",
      "(2,)\n",
      "[ 3  7 11]\n"
     ]
    }
   ],
   "source": [
    "d9 = np.array([[1,3,5],[2,4,6]])    # regrads as y (hidden or output layer)\n",
    "print(d9)\n",
    "print(d9.shape)\n",
    "d10 = np.array([1,1])    # regrads as input\n",
    "print(d10)\n",
    "print(d10.shape)\n",
    "print(np.dot(d10, d9))"
   ]
  },
  {
   "cell_type": "markdown",
   "metadata": {},
   "source": [
    "## 3-layers NN"
   ]
  },
  {
   "cell_type": "code",
   "execution_count": 23,
   "metadata": {},
   "outputs": [
    {
     "name": "stdout",
     "output_type": "stream",
     "text": [
      "[0.3 0.7 1.1]\n",
      "[0.57444252 0.66818777 0.75026011]\n",
      "\n"
     ]
    }
   ],
   "source": [
    "X = np.array([1.0, 0.5])    # (2,) => 1 x 2\n",
    "W1 = np.array([[0.1, 0.3, 0.5], [0.2, 0.4, 0.6]])    # 2 x 3\n",
    "B1 = np.array([0.1, 0.2, 0.3])\n",
    "A1 = np.dot(X, W1) + B1    # (3,) => 1 x 3\n",
    "Z1 = sigmoid(A1)\n",
    "print(A1)\n",
    "print(Z1)\n",
    "print()"
   ]
  },
  {
   "cell_type": "code",
   "execution_count": 24,
   "metadata": {},
   "outputs": [
    {
     "name": "stdout",
     "output_type": "stream",
     "text": [
      "[0.51615984 1.21402696]\n",
      "[0.1 0.2]\n",
      "\n"
     ]
    }
   ],
   "source": [
    "W2 = np.array([[0.1, 0.4], [0.2, 0.5], [0.3, 0.6]])  # 3 x 2\n",
    "B2 = np.array([0.1, 0.2])\n",
    "A2 = np.dot(Z1, W2) + B2\n",
    "Z2 = sigmoid(A2)    # (2,) => 1 x 2\n",
    "print(A2)\n",
    "print(B2)\n",
    "print()"
   ]
  },
  {
   "cell_type": "code",
   "execution_count": 25,
   "metadata": {},
   "outputs": [
    {
     "name": "stdout",
     "output_type": "stream",
     "text": [
      "[0.31682708 0.69627909]\n",
      "[0.31682708 0.69627909]\n",
      "\n"
     ]
    }
   ],
   "source": [
    "W3 = np.array([[.1, .3],[.2, .4]])    # 2 x 2\n",
    "B3 = np.array([.1, .2])\n",
    "A3 = np.dot(Z2, W3) + B3\n",
    "Y = identify_function(A3)\n",
    "print(A3)\n",
    "print(Y)\n",
    "print()"
   ]
  },
  {
   "cell_type": "code",
   "execution_count": 26,
   "metadata": {
    "collapsed": true
   },
   "outputs": [],
   "source": [
    "def parameters():\n",
    "    parameter = {}\n",
    "    parameter[\"W1\"] = np.array([[0.1, 0.3, 0.5], [0.2, 0.4, 0.6]])\n",
    "    parameter[\"b1\"] = np.array([0.1, 0.2, 0.3])\n",
    "    parameter[\"W2\"] = np.array([[0.1, 0.4], [0.2, 0.5], [0.3, 0.6]])\n",
    "    parameter[\"b2\"] = np.array([0.1, 0.2])\n",
    "    parameter[\"W3\"] = np.array([[.1, .3],[.2, .4]])\n",
    "    parameter[\"b3\"] = np.array([.1, .2])\n",
    "    return parameter"
   ]
  },
  {
   "cell_type": "code",
   "execution_count": 27,
   "metadata": {
    "collapsed": true
   },
   "outputs": [],
   "source": [
    "def forward(para, X):\n",
    "    W1, W2, W3 = para[\"W1\"], para[\"W2\"], para[\"W3\"]\n",
    "    b1, b2, b3 = para[\"b1\"], para[\"b2\"], para[\"b3\"]\n",
    "\n",
    "    A1 = np.dot(X, W1) + b1\n",
    "    Z1 = sigmoid(A1)\n",
    "    A2 = np.dot(Z1, W2) + b2\n",
    "    Z2 = sigmoid(A2)\n",
    "    A3 = np.dot(Z2, W3) + b3\n",
    "    Z3 = identify_function(A3)\n",
    "    \n",
    "    return Z3"
   ]
  },
  {
   "cell_type": "code",
   "execution_count": 28,
   "metadata": {
    "collapsed": true
   },
   "outputs": [],
   "source": [
    "def forward_softmax(para, X):\n",
    "    W1, W2, W3 = para[\"W1\"], para[\"W2\"], para[\"W3\"]\n",
    "    b1, b2, b3 = para[\"b1\"], para[\"b2\"], para[\"b3\"]\n",
    "\n",
    "    A1 = np.dot(X, W1) + b1\n",
    "    Z1 = sigmoid(A1)\n",
    "    A2 = np.dot(Z1, W2) + b2\n",
    "    Z2 = sigmoid(A2)\n",
    "    A3 = np.dot(Z2, W3) + b3\n",
    "    Z3 = softmax(A3)\n",
    "    \n",
    "    return Z3"
   ]
  },
  {
   "cell_type": "code",
   "execution_count": 29,
   "metadata": {},
   "outputs": [
    {
     "name": "stdout",
     "output_type": "stream",
     "text": [
      "[0.31682708 0.69627909]\n",
      "[0.40625907 0.59374093]\n"
     ]
    }
   ],
   "source": [
    "x = np.array([1.0, 0.5])\n",
    "para = parameters()\n",
    "print(forward(para, x))\n",
    "print(forward_softmax(para, x))"
   ]
  },
  {
   "cell_type": "code",
   "execution_count": null,
   "metadata": {
    "collapsed": true
   },
   "outputs": [],
   "source": []
  }
 ],
 "metadata": {
  "kernelspec": {
   "display_name": "Python 3",
   "language": "python",
   "name": "python3"
  },
  "language_info": {
   "codemirror_mode": {
    "name": "ipython",
    "version": 3
   },
   "file_extension": ".py",
   "mimetype": "text/x-python",
   "name": "python",
   "nbconvert_exporter": "python",
   "pygments_lexer": "ipython3",
   "version": "3.5.2"
  }
 },
 "nbformat": 4,
 "nbformat_minor": 1
}
